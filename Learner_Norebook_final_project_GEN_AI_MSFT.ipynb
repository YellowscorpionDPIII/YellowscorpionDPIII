{
  "cells": [
    {
      "cell_type": "markdown",
      "metadata": {
        "id": "view-in-github",
        "colab_type": "text"
      },
      "source": [
        "<a href=\"https://colab.research.google.com/github/YellowscorpionDPIII/YellowscorpionDPIII/blob/main/Learner_Norebook_final_project_GEN_AI_MSFT.ipynb\" target=\"_parent\"><img src=\"https://colab.research.google.com/assets/colab-badge.svg\" alt=\"Open In Colab\"/></a>"
      ]
    },
    {
      "cell_type": "markdown",
      "metadata": {
        "id": "A-kfSgIGzgGL"
      },
      "source": [
        "# **Project : A Case Study of ExpressWay Logistics**"
      ]
    },
    {
      "cell_type": "markdown",
      "metadata": {
        "id": "O8Z-Vp4pzgGN"
      },
      "source": [
        "**Business Overview:**\n",
        "\n",
        "ExpressWay Logistics is a dynamic logistics service provider, committed to delivering efficient, reliable and cost-effective courier transportation and warehousing solutions. With a focus on speed, precision and customer satisfaction, we aim to be the go-to partner for our customers seeking seamless courier services. Our core service involves ensuring operational efficiency throughout our delivery and courier services, including inventory management, durable packaging and swift dispatch of couriers, real time tracking of shipments and on-time delivery of couriers as promised. We are committed to enhance our logistics and courier services and improve seamless connectivity for our customers."
      ]
    },
    {
      "cell_type": "markdown",
      "metadata": {
        "id": "46XFRcFTzgGN"
      },
      "source": [
        "**Current Challenge:**\n",
        "\n",
        "ExpressWay Logistics faces numerous challenges in ensuring seamless deliveries and customer satisfaction. These challenges include managing various customer demands simultaneously, addressing delays in deliveries and ensuring products arrive intact and safe. Additionally, the company struggles with complexity of efficiently storing and handling a large volume of packages and ultimately meeting customer expectations. Moreover, maintaining a skilled workforce capable of handling various aspects of logistics operations presents its own set of challenges. Overcoming these obstacles requires a comprehensive approach that integrates innovative technology, strategic planning, and continuous improvement initiatives to ensure smooth operations and exceptional service delivery."
      ]
    },
    {
      "cell_type": "markdown",
      "metadata": {
        "id": "maC1EgUJzgGO"
      },
      "source": [
        "**Objective:**\n",
        "\n",
        "Our primary objective is to conduct a sentiment analysis of user-generated reviews across various digital channels and platforms. By paying attention to their feedback, we want to find ways to make our services better - like handling different customer demands simultaneously, dealing with late deliveries, and keeping packages secured and intact. Through the application of prompt engineering methodologies and sentiment analysis, we'll figure out if sentiments expressed by users for our courier services are Positive or Negative. This will help us understand where we need to improve in order to meet customer expectations and keep them happy. With a focus on getting better all the time, we'll overcome the challenges at ExpressWay Logistics and make our services the best."
      ]
    },
    {
      "cell_type": "markdown",
      "metadata": {
        "id": "flUHF3xczgGO"
      },
      "source": [
        "**Data Description:**\n",
        "\n",
        "The dataset titled \"courier-service_reviews.csv\" is structured to facilitate sentiment analysis for courier service reviews. Here's a brief description of the data columns:\n",
        "\n",
        "1. id: This column contains unique identifiers for each review entry. It helps in distinguishing and referencing individual reviews.\n",
        "2. review: This column includes the actual text of the courier service reviews. The reviews are likely composed of customer opinions and experiences regarding different aspects of the services provided by ExpressWay Logistics.\n",
        "3. sentiment: This column provides an additional layer of classification (positive and negative) for the mentioned reviews."
      ]
    },
    {
      "cell_type": "markdown",
      "metadata": {
        "id": "0zTC8qPRPahk"
      },
      "source": [
        "##**Step 1. Setup (2 Marks)**\n",
        "\n",
        "(A) Writing/Creating the config.json file  (2 Marks)"
      ]
    },
    {
      "cell_type": "code",
      "execution_count": 1,
      "metadata": {
        "id": "keb94_PFzgGO",
        "colab": {
          "base_uri": "https://localhost:8080/"
        },
        "outputId": "7a4f8852-e535-4c99-981f-84f1e5377750"
      },
      "outputs": [
        {
          "output_type": "stream",
          "name": "stdout",
          "text": [
            "  Preparing metadata (setup.py) ... \u001b[?25l\u001b[?25hdone\n",
            "\u001b[2K   \u001b[90m━━━━━━━━━━━━━━━━━━━━━━━━━━━━━━━━━━━━━━━━\u001b[0m \u001b[32m219.9/219.9 kB\u001b[0m \u001b[31m1.7 MB/s\u001b[0m eta \u001b[36m0:00:00\u001b[0m\n",
            "\u001b[2K   \u001b[90m━━━━━━━━━━━━━━━━━━━━━━━━━━━━━━━━━━━━━━━━\u001b[0m \u001b[32m1.1/1.1 MB\u001b[0m \u001b[31m16.1 MB/s\u001b[0m eta \u001b[36m0:00:00\u001b[0m\n",
            "\u001b[2K   \u001b[90m━━━━━━━━━━━━━━━━━━━━━━━━━━━━━━━━━━━━━━━━\u001b[0m \u001b[32m527.3/527.3 kB\u001b[0m \u001b[31m13.1 MB/s\u001b[0m eta \u001b[36m0:00:00\u001b[0m\n",
            "\u001b[2K   \u001b[90m━━━━━━━━━━━━━━━━━━━━━━━━━━━━━━━━━━━━━━━━\u001b[0m \u001b[32m116.3/116.3 kB\u001b[0m \u001b[31m5.1 MB/s\u001b[0m eta \u001b[36m0:00:00\u001b[0m\n",
            "\u001b[2K   \u001b[90m━━━━━━━━━━━━━━━━━━━━━━━━━━━━━━━━━━━━━━━━\u001b[0m \u001b[32m75.6/75.6 kB\u001b[0m \u001b[31m2.3 MB/s\u001b[0m eta \u001b[36m0:00:00\u001b[0m\n",
            "\u001b[2K   \u001b[90m━━━━━━━━━━━━━━━━━━━━━━━━━━━━━━━━━━━━━━━━\u001b[0m \u001b[32m77.9/77.9 kB\u001b[0m \u001b[31m1.8 MB/s\u001b[0m eta \u001b[36m0:00:00\u001b[0m\n",
            "\u001b[2K   \u001b[90m━━━━━━━━━━━━━━━━━━━━━━━━━━━━━━━━━━━━━━━━\u001b[0m \u001b[32m39.9/39.9 MB\u001b[0m \u001b[31m12.8 MB/s\u001b[0m eta \u001b[36m0:00:00\u001b[0m\n",
            "\u001b[2K   \u001b[90m━━━━━━━━━━━━━━━━━━━━━━━━━━━━━━━━━━━━━━━━\u001b[0m \u001b[32m134.8/134.8 kB\u001b[0m \u001b[31m1.9 MB/s\u001b[0m eta \u001b[36m0:00:00\u001b[0m\n",
            "\u001b[2K   \u001b[90m━━━━━━━━━━━━━━━━━━━━━━━━━━━━━━━━━━━━━━━━\u001b[0m \u001b[32m79.8/79.8 kB\u001b[0m \u001b[31m2.8 MB/s\u001b[0m eta \u001b[36m0:00:00\u001b[0m\n",
            "\u001b[2K   \u001b[90m━━━━━━━━━━━━━━━━━━━━━━━━━━━━━━━━━━━━━━━━\u001b[0m \u001b[32m194.1/194.1 kB\u001b[0m \u001b[31m3.8 MB/s\u001b[0m eta \u001b[36m0:00:00\u001b[0m\n",
            "\u001b[2K   \u001b[90m━━━━━━━━━━━━━━━━━━━━━━━━━━━━━━━━━━━━━━━━\u001b[0m \u001b[32m58.3/58.3 kB\u001b[0m \u001b[31m1.6 MB/s\u001b[0m eta \u001b[36m0:00:00\u001b[0m\n",
            "\u001b[?25h  Building wheel for session-info (setup.py) ... \u001b[?25l\u001b[?25hdone\n",
            "\u001b[31mERROR: pip's dependency resolver does not currently take into account all the packages that are installed. This behaviour is the source of the following dependency conflicts.\n",
            "cudf-cu12 24.4.1 requires pyarrow<15.0.0a0,>=14.0.1, but you have pyarrow 17.0.0 which is incompatible.\n",
            "ibis-framework 8.0.0 requires pyarrow<16,>=2, but you have pyarrow 17.0.0 which is incompatible.\u001b[0m\u001b[31m\n",
            "\u001b[0m"
          ]
        }
      ],
      "source": [
        "!pip install openai==1.2 tiktoken datasets session-info --quiet"
      ]
    },
    {
      "cell_type": "code",
      "source": [
        "!pip show pyarrow cudf-cu12 ibis-framework"
      ],
      "metadata": {
        "colab": {
          "base_uri": "https://localhost:8080/"
        },
        "id": "IhqRFhy0uyLU",
        "outputId": "2ebafdbe-ae36-4b6b-e30a-b9b8d69bec0b"
      },
      "execution_count": 2,
      "outputs": [
        {
          "output_type": "stream",
          "name": "stdout",
          "text": [
            "Name: pyarrow\n",
            "Version: 17.0.0\n",
            "Summary: Python library for Apache Arrow\n",
            "Home-page: https://arrow.apache.org/\n",
            "Author: \n",
            "Author-email: \n",
            "License: Apache Software License\n",
            "Location: /usr/local/lib/python3.10/dist-packages\n",
            "Requires: numpy\n",
            "Required-by: bigframes, cudf-cu12, datasets, db-dtypes, ibis-framework, pandas-gbq, tensorflow-datasets\n",
            "---\n",
            "Name: cudf-cu12\n",
            "Version: 24.4.1\n",
            "Summary: cuDF - GPU Dataframe\n",
            "Home-page: https://github.com/rapidsai/cudf\n",
            "Author: NVIDIA Corporation\n",
            "Author-email: \n",
            "License: Apache 2.0\n",
            "Location: /usr/local/lib/python3.10/dist-packages\n",
            "Requires: cachetools, cuda-python, cupy-cuda12x, fsspec, numba, numpy, nvtx, packaging, pandas, protobuf, pyarrow, pynvjitlink-cu12, rich, rmm-cu12, typing_extensions\n",
            "Required-by: \n",
            "---\n",
            "Name: ibis-framework\n",
            "Version: 8.0.0\n",
            "Summary: Productivity-centric Python Big Data Framework\n",
            "Home-page: https://ibis-project.org\n",
            "Author: Ibis Maintainers\n",
            "Author-email: maintainers@ibis-project.org\n",
            "License: Apache-2.0\n",
            "Location: /usr/local/lib/python3.10/dist-packages\n",
            "Requires: atpublic, bidict, multipledispatch, numpy, pandas, parsy, pyarrow, pyarrow-hotfix, python-dateutil, pytz, rich, sqlglot, toolz, typing-extensions\n",
            "Required-by: bigframes\n"
          ]
        }
      ]
    },
    {
      "cell_type": "code",
      "source": [
        "!pip install --upgrade pip setuptools wheel"
      ],
      "metadata": {
        "colab": {
          "base_uri": "https://localhost:8080/"
        },
        "id": "kCWW-OkUuyBk",
        "outputId": "2ccde3e0-a10f-4db3-f5be-410a3b629d12"
      },
      "execution_count": 1,
      "outputs": [
        {
          "output_type": "stream",
          "name": "stdout",
          "text": [
            "Requirement already satisfied: pip in /usr/local/lib/python3.10/dist-packages (24.2)\n",
            "Requirement already satisfied: setuptools in /usr/local/lib/python3.10/dist-packages (72.2.0)\n",
            "Requirement already satisfied: wheel in /usr/local/lib/python3.10/dist-packages (0.44.0)\n"
          ]
        }
      ]
    },
    {
      "cell_type": "code",
      "source": [
        "!pip uninstall pyarrow"
      ],
      "metadata": {
        "colab": {
          "base_uri": "https://localhost:8080/"
        },
        "id": "9ZhM2YrKux09",
        "outputId": "ff128b1f-d37e-4f33-8363-fd42e10bd682"
      },
      "execution_count": 2,
      "outputs": [
        {
          "output_type": "stream",
          "name": "stdout",
          "text": [
            "Found existing installation: pyarrow 17.0.0\n",
            "Uninstalling pyarrow-17.0.0:\n",
            "  Would remove:\n",
            "    /usr/local/lib/python3.10/dist-packages/benchmarks/*\n",
            "    /usr/local/lib/python3.10/dist-packages/cmake_modules/AWSSDKVariables.cmake\n",
            "    /usr/local/lib/python3.10/dist-packages/cmake_modules/BuildUtils.cmake\n",
            "    /usr/local/lib/python3.10/dist-packages/cmake_modules/DefineOptions.cmake\n",
            "    /usr/local/lib/python3.10/dist-packages/cmake_modules/FindAWSSDKAlt.cmake\n",
            "    /usr/local/lib/python3.10/dist-packages/cmake_modules/FindAzure.cmake\n",
            "    /usr/local/lib/python3.10/dist-packages/cmake_modules/FindBrotliAlt.cmake\n",
            "    /usr/local/lib/python3.10/dist-packages/cmake_modules/FindClangTools.cmake\n",
            "    /usr/local/lib/python3.10/dist-packages/cmake_modules/FindGTestAlt.cmake\n",
            "    /usr/local/lib/python3.10/dist-packages/cmake_modules/FindInferTools.cmake\n",
            "    /usr/local/lib/python3.10/dist-packages/cmake_modules/FindLLVMAlt.cmake\n",
            "    /usr/local/lib/python3.10/dist-packages/cmake_modules/FindOpenSSLAlt.cmake\n",
            "    /usr/local/lib/python3.10/dist-packages/cmake_modules/FindProtobufAlt.cmake\n",
            "    /usr/local/lib/python3.10/dist-packages/cmake_modules/FindPython3Alt.cmake\n",
            "    /usr/local/lib/python3.10/dist-packages/cmake_modules/FindRapidJSONAlt.cmake\n",
            "    /usr/local/lib/python3.10/dist-packages/cmake_modules/FindSQLite3Alt.cmake\n",
            "    /usr/local/lib/python3.10/dist-packages/cmake_modules/FindSnappyAlt.cmake\n",
            "    /usr/local/lib/python3.10/dist-packages/cmake_modules/FindThriftAlt.cmake\n",
            "    /usr/local/lib/python3.10/dist-packages/cmake_modules/Findc-aresAlt.cmake\n",
            "    /usr/local/lib/python3.10/dist-packages/cmake_modules/FindgRPCAlt.cmake\n",
            "    /usr/local/lib/python3.10/dist-packages/cmake_modules/FindgflagsAlt.cmake\n",
            "    /usr/local/lib/python3.10/dist-packages/cmake_modules/FindglogAlt.cmake\n",
            "    /usr/local/lib/python3.10/dist-packages/cmake_modules/FindjemallocAlt.cmake\n",
            "    /usr/local/lib/python3.10/dist-packages/cmake_modules/Findlibrados.cmake\n",
            "    /usr/local/lib/python3.10/dist-packages/cmake_modules/Findlz4Alt.cmake\n",
            "    /usr/local/lib/python3.10/dist-packages/cmake_modules/FindorcAlt.cmake\n",
            "    /usr/local/lib/python3.10/dist-packages/cmake_modules/Findre2Alt.cmake\n",
            "    /usr/local/lib/python3.10/dist-packages/cmake_modules/Findutf8proc.cmake\n",
            "    /usr/local/lib/python3.10/dist-packages/cmake_modules/FindzstdAlt.cmake\n",
            "    /usr/local/lib/python3.10/dist-packages/cmake_modules/GandivaAddBitcode.cmake\n",
            "    /usr/local/lib/python3.10/dist-packages/cmake_modules/SetupCxxFlags.cmake\n",
            "    /usr/local/lib/python3.10/dist-packages/cmake_modules/ThirdpartyToolchain.cmake\n",
            "    /usr/local/lib/python3.10/dist-packages/cmake_modules/UseCython.cmake\n",
            "    /usr/local/lib/python3.10/dist-packages/cmake_modules/Usevcpkg.cmake\n",
            "    /usr/local/lib/python3.10/dist-packages/cmake_modules/aws_sdk_cpp_generate_variables.sh\n",
            "    /usr/local/lib/python3.10/dist-packages/cmake_modules/san-config.cmake\n",
            "    /usr/local/lib/python3.10/dist-packages/cmake_modules/snappy.diff\n",
            "    /usr/local/lib/python3.10/dist-packages/examples/dataset/write_dataset_encrypted.py\n",
            "    /usr/local/lib/python3.10/dist-packages/examples/flight/client.py\n",
            "    /usr/local/lib/python3.10/dist-packages/examples/flight/middleware.py\n",
            "    /usr/local/lib/python3.10/dist-packages/examples/flight/server.py\n",
            "    /usr/local/lib/python3.10/dist-packages/examples/parquet_encryption/sample_vault_kms_client.py\n",
            "    /usr/local/lib/python3.10/dist-packages/pyarrow-17.0.0.dist-info/*\n",
            "    /usr/local/lib/python3.10/dist-packages/pyarrow/*\n",
            "    /usr/local/lib/python3.10/dist-packages/scripts/run_emscripten_tests.py\n",
            "    /usr/local/lib/python3.10/dist-packages/scripts/test_imports.py\n",
            "    /usr/local/lib/python3.10/dist-packages/scripts/test_leak.py\n",
            "Proceed (Y/n)? y\n",
            "  Successfully uninstalled pyarrow-17.0.0\n"
          ]
        }
      ]
    },
    {
      "cell_type": "code",
      "source": [
        "!pip install pyarrow==14.0.1"
      ],
      "metadata": {
        "colab": {
          "base_uri": "https://localhost:8080/"
        },
        "id": "oaaOR0UDvM20",
        "outputId": "d1088881-e88b-49ef-fb46-d7094d068e0b"
      },
      "execution_count": 3,
      "outputs": [
        {
          "output_type": "stream",
          "name": "stdout",
          "text": [
            "Collecting pyarrow==14.0.1\n",
            "  Downloading pyarrow-14.0.1-cp310-cp310-manylinux_2_28_x86_64.whl.metadata (3.0 kB)\n",
            "Requirement already satisfied: numpy>=1.16.6 in /usr/local/lib/python3.10/dist-packages (from pyarrow==14.0.1) (1.26.4)\n",
            "Downloading pyarrow-14.0.1-cp310-cp310-manylinux_2_28_x86_64.whl (38.0 MB)\n",
            "\u001b[2K   \u001b[90m━━━━━━━━━━━━━━━━━━━━━━━━━━━━━━━━━━━━━━━━\u001b[0m \u001b[32m38.0/38.0 MB\u001b[0m \u001b[31m37.9 MB/s\u001b[0m eta \u001b[36m0:00:00\u001b[0m\n",
            "\u001b[?25hInstalling collected packages: pyarrow\n",
            "\u001b[31mERROR: pip's dependency resolver does not currently take into account all the packages that are installed. This behaviour is the source of the following dependency conflicts.\n",
            "datasets 2.21.0 requires pyarrow>=15.0.0, but you have pyarrow 14.0.1 which is incompatible.\u001b[0m\u001b[31m\n",
            "\u001b[0mSuccessfully installed pyarrow-14.0.1\n"
          ]
        }
      ]
    },
    {
      "cell_type": "code",
      "source": [
        "!pip install cudf-cu12 ibis-framework"
      ],
      "metadata": {
        "colab": {
          "base_uri": "https://localhost:8080/"
        },
        "id": "flSA4aADvM0O",
        "outputId": "4dd3b343-efb7-4f27-82a9-109d32dd72c4"
      },
      "execution_count": 4,
      "outputs": [
        {
          "output_type": "stream",
          "name": "stdout",
          "text": [
            "Requirement already satisfied: cudf-cu12 in /usr/local/lib/python3.10/dist-packages (24.4.1)\n",
            "Requirement already satisfied: ibis-framework in /usr/local/lib/python3.10/dist-packages (8.0.0)\n",
            "Requirement already satisfied: cachetools in /usr/local/lib/python3.10/dist-packages (from cudf-cu12) (5.4.0)\n",
            "Requirement already satisfied: cuda-python<13.0a0,>=12.0 in /usr/local/lib/python3.10/dist-packages (from cudf-cu12) (12.2.1)\n",
            "Requirement already satisfied: cupy-cuda12x>=12.0.0 in /usr/local/lib/python3.10/dist-packages (from cudf-cu12) (12.2.0)\n",
            "Requirement already satisfied: fsspec>=0.6.0 in /usr/local/lib/python3.10/dist-packages (from cudf-cu12) (2024.6.1)\n",
            "Requirement already satisfied: numba>=0.57 in /usr/local/lib/python3.10/dist-packages (from cudf-cu12) (0.60.0)\n",
            "Requirement already satisfied: numpy<2.0a0,>=1.23 in /usr/local/lib/python3.10/dist-packages (from cudf-cu12) (1.26.4)\n",
            "Requirement already satisfied: nvtx>=0.2.1 in /usr/local/lib/python3.10/dist-packages (from cudf-cu12) (0.2.10)\n",
            "Requirement already satisfied: packaging in /usr/local/lib/python3.10/dist-packages (from cudf-cu12) (24.1)\n",
            "Requirement already satisfied: pandas<2.2.2dev0,>=2.0 in /usr/local/lib/python3.10/dist-packages (from cudf-cu12) (2.1.4)\n",
            "Requirement already satisfied: protobuf<5,>=3.20 in /usr/local/lib/python3.10/dist-packages (from cudf-cu12) (3.20.3)\n",
            "Requirement already satisfied: pynvjitlink-cu12 in /usr/local/lib/python3.10/dist-packages (from cudf-cu12) (0.3.0)\n",
            "Requirement already satisfied: pyarrow<15.0.0a0,>=14.0.1 in /usr/local/lib/python3.10/dist-packages (from cudf-cu12) (14.0.1)\n",
            "Requirement already satisfied: rich in /usr/local/lib/python3.10/dist-packages (from cudf-cu12) (13.7.1)\n",
            "Requirement already satisfied: rmm-cu12==24.4.* in /usr/local/lib/python3.10/dist-packages (from cudf-cu12) (24.4.0)\n",
            "Requirement already satisfied: typing_extensions>=4.0.0 in /usr/local/lib/python3.10/dist-packages (from cudf-cu12) (4.12.2)\n",
            "Requirement already satisfied: atpublic<5,>=2.3 in /usr/local/lib/python3.10/dist-packages (from ibis-framework) (4.1.0)\n",
            "Requirement already satisfied: bidict<1,>=0.22.1 in /usr/local/lib/python3.10/dist-packages (from ibis-framework) (0.23.1)\n",
            "Requirement already satisfied: multipledispatch<2,>=0.6 in /usr/local/lib/python3.10/dist-packages (from ibis-framework) (1.0.0)\n",
            "Requirement already satisfied: parsy<3,>=2 in /usr/local/lib/python3.10/dist-packages (from ibis-framework) (2.1)\n",
            "Requirement already satisfied: pyarrow-hotfix<1,>=0.4 in /usr/local/lib/python3.10/dist-packages (from ibis-framework) (0.6)\n",
            "Requirement already satisfied: python-dateutil<3,>=2.8.2 in /usr/local/lib/python3.10/dist-packages (from ibis-framework) (2.8.2)\n",
            "Requirement already satisfied: pytz>=2022.7 in /usr/local/lib/python3.10/dist-packages (from ibis-framework) (2024.1)\n",
            "Requirement already satisfied: sqlglot<=20.11,>=18.12.0 in /usr/local/lib/python3.10/dist-packages (from ibis-framework) (20.11.0)\n",
            "Requirement already satisfied: toolz<1,>=0.11 in /usr/local/lib/python3.10/dist-packages (from ibis-framework) (0.12.1)\n",
            "Requirement already satisfied: cython in /usr/local/lib/python3.10/dist-packages (from cuda-python<13.0a0,>=12.0->cudf-cu12) (3.0.11)\n",
            "Requirement already satisfied: fastrlock>=0.5 in /usr/local/lib/python3.10/dist-packages (from cupy-cuda12x>=12.0.0->cudf-cu12) (0.8.2)\n",
            "Requirement already satisfied: llvmlite<0.44,>=0.43.0dev0 in /usr/local/lib/python3.10/dist-packages (from numba>=0.57->cudf-cu12) (0.43.0)\n",
            "Requirement already satisfied: tzdata>=2022.1 in /usr/local/lib/python3.10/dist-packages (from pandas<2.2.2dev0,>=2.0->cudf-cu12) (2024.1)\n",
            "Requirement already satisfied: six>=1.5 in /usr/local/lib/python3.10/dist-packages (from python-dateutil<3,>=2.8.2->ibis-framework) (1.16.0)\n",
            "Requirement already satisfied: markdown-it-py>=2.2.0 in /usr/local/lib/python3.10/dist-packages (from rich->cudf-cu12) (3.0.0)\n",
            "Requirement already satisfied: pygments<3.0.0,>=2.13.0 in /usr/local/lib/python3.10/dist-packages (from rich->cudf-cu12) (2.16.1)\n",
            "Requirement already satisfied: mdurl~=0.1 in /usr/local/lib/python3.10/dist-packages (from markdown-it-py>=2.2.0->rich->cudf-cu12) (0.1.2)\n"
          ]
        }
      ]
    },
    {
      "cell_type": "code",
      "source": [
        "!pip check"
      ],
      "metadata": {
        "colab": {
          "base_uri": "https://localhost:8080/"
        },
        "id": "jHEy9jATvfHb",
        "outputId": "d3d98299-09c1-4a45-b515-f160fc730937"
      },
      "execution_count": 5,
      "outputs": [
        {
          "output_type": "stream",
          "name": "stdout",
          "text": [
            "ipython 7.34.0 requires jedi, which is not installed.\n",
            "torch 2.3.1+cu121 requires nvidia-cublas-cu12, which is not installed.\n",
            "torch 2.3.1+cu121 requires nvidia-cuda-cupti-cu12, which is not installed.\n",
            "torch 2.3.1+cu121 requires nvidia-cuda-nvrtc-cu12, which is not installed.\n",
            "torch 2.3.1+cu121 requires nvidia-cuda-runtime-cu12, which is not installed.\n",
            "torch 2.3.1+cu121 requires nvidia-cudnn-cu12, which is not installed.\n",
            "torch 2.3.1+cu121 requires nvidia-cufft-cu12, which is not installed.\n",
            "torch 2.3.1+cu121 requires nvidia-curand-cu12, which is not installed.\n",
            "torch 2.3.1+cu121 requires nvidia-cusolver-cu12, which is not installed.\n",
            "torch 2.3.1+cu121 requires nvidia-cusparse-cu12, which is not installed.\n",
            "torch 2.3.1+cu121 requires nvidia-nccl-cu12, which is not installed.\n",
            "torch 2.3.1+cu121 requires nvidia-nvtx-cu12, which is not installed.\n",
            "xgboost 2.1.1 requires nvidia-nccl-cu12, which is not installed.\n",
            "pygobject 3.42.1 requires pycairo, which is not installed.\n",
            "datasets 2.21.0 has requirement pyarrow>=15.0.0, but you have pyarrow 14.0.1.\n"
          ]
        }
      ]
    },
    {
      "cell_type": "code",
      "source": [
        "!pip install openai==1.2 tiktoken datasets session-info --quiet"
      ],
      "metadata": {
        "colab": {
          "base_uri": "https://localhost:8080/"
        },
        "id": "3GDAAYIrvfDA",
        "outputId": "82e598fe-d852-47b8-8542-4f73cf87b502"
      },
      "execution_count": 6,
      "outputs": [
        {
          "output_type": "stream",
          "name": "stdout",
          "text": [
            "\u001b[31mERROR: pip's dependency resolver does not currently take into account all the packages that are installed. This behaviour is the source of the following dependency conflicts.\n",
            "cudf-cu12 24.4.1 requires pyarrow<15.0.0a0,>=14.0.1, but you have pyarrow 17.0.0 which is incompatible.\n",
            "ibis-framework 8.0.0 requires pyarrow<16,>=2, but you have pyarrow 17.0.0 which is incompatible.\u001b[0m\u001b[31m\n",
            "\u001b[0m"
          ]
        }
      ]
    },
    {
      "cell_type": "code",
      "source": [
        "from google.colab import files\n",
        "uploaded = files.upload()"
      ],
      "metadata": {
        "colab": {
          "base_uri": "https://localhost:8080/",
          "height": 74
        },
        "id": "-jBUxCXZyAWj",
        "outputId": "a41f29ec-baac-45bf-a815-f1ca49e440de"
      },
      "execution_count": 24,
      "outputs": [
        {
          "output_type": "display_data",
          "data": {
            "text/plain": [
              "<IPython.core.display.HTML object>"
            ],
            "text/html": [
              "\n",
              "     <input type=\"file\" id=\"files-7998cff4-7c30-42e3-b2c0-647e68caab1d\" name=\"files[]\" multiple disabled\n",
              "        style=\"border:none\" />\n",
              "     <output id=\"result-7998cff4-7c30-42e3-b2c0-647e68caab1d\">\n",
              "      Upload widget is only available when the cell has been executed in the\n",
              "      current browser session. Please rerun this cell to enable.\n",
              "      </output>\n",
              "      <script>// Copyright 2017 Google LLC\n",
              "//\n",
              "// Licensed under the Apache License, Version 2.0 (the \"License\");\n",
              "// you may not use this file except in compliance with the License.\n",
              "// You may obtain a copy of the License at\n",
              "//\n",
              "//      http://www.apache.org/licenses/LICENSE-2.0\n",
              "//\n",
              "// Unless required by applicable law or agreed to in writing, software\n",
              "// distributed under the License is distributed on an \"AS IS\" BASIS,\n",
              "// WITHOUT WARRANTIES OR CONDITIONS OF ANY KIND, either express or implied.\n",
              "// See the License for the specific language governing permissions and\n",
              "// limitations under the License.\n",
              "\n",
              "/**\n",
              " * @fileoverview Helpers for google.colab Python module.\n",
              " */\n",
              "(function(scope) {\n",
              "function span(text, styleAttributes = {}) {\n",
              "  const element = document.createElement('span');\n",
              "  element.textContent = text;\n",
              "  for (const key of Object.keys(styleAttributes)) {\n",
              "    element.style[key] = styleAttributes[key];\n",
              "  }\n",
              "  return element;\n",
              "}\n",
              "\n",
              "// Max number of bytes which will be uploaded at a time.\n",
              "const MAX_PAYLOAD_SIZE = 100 * 1024;\n",
              "\n",
              "function _uploadFiles(inputId, outputId) {\n",
              "  const steps = uploadFilesStep(inputId, outputId);\n",
              "  const outputElement = document.getElementById(outputId);\n",
              "  // Cache steps on the outputElement to make it available for the next call\n",
              "  // to uploadFilesContinue from Python.\n",
              "  outputElement.steps = steps;\n",
              "\n",
              "  return _uploadFilesContinue(outputId);\n",
              "}\n",
              "\n",
              "// This is roughly an async generator (not supported in the browser yet),\n",
              "// where there are multiple asynchronous steps and the Python side is going\n",
              "// to poll for completion of each step.\n",
              "// This uses a Promise to block the python side on completion of each step,\n",
              "// then passes the result of the previous step as the input to the next step.\n",
              "function _uploadFilesContinue(outputId) {\n",
              "  const outputElement = document.getElementById(outputId);\n",
              "  const steps = outputElement.steps;\n",
              "\n",
              "  const next = steps.next(outputElement.lastPromiseValue);\n",
              "  return Promise.resolve(next.value.promise).then((value) => {\n",
              "    // Cache the last promise value to make it available to the next\n",
              "    // step of the generator.\n",
              "    outputElement.lastPromiseValue = value;\n",
              "    return next.value.response;\n",
              "  });\n",
              "}\n",
              "\n",
              "/**\n",
              " * Generator function which is called between each async step of the upload\n",
              " * process.\n",
              " * @param {string} inputId Element ID of the input file picker element.\n",
              " * @param {string} outputId Element ID of the output display.\n",
              " * @return {!Iterable<!Object>} Iterable of next steps.\n",
              " */\n",
              "function* uploadFilesStep(inputId, outputId) {\n",
              "  const inputElement = document.getElementById(inputId);\n",
              "  inputElement.disabled = false;\n",
              "\n",
              "  const outputElement = document.getElementById(outputId);\n",
              "  outputElement.innerHTML = '';\n",
              "\n",
              "  const pickedPromise = new Promise((resolve) => {\n",
              "    inputElement.addEventListener('change', (e) => {\n",
              "      resolve(e.target.files);\n",
              "    });\n",
              "  });\n",
              "\n",
              "  const cancel = document.createElement('button');\n",
              "  inputElement.parentElement.appendChild(cancel);\n",
              "  cancel.textContent = 'Cancel upload';\n",
              "  const cancelPromise = new Promise((resolve) => {\n",
              "    cancel.onclick = () => {\n",
              "      resolve(null);\n",
              "    };\n",
              "  });\n",
              "\n",
              "  // Wait for the user to pick the files.\n",
              "  const files = yield {\n",
              "    promise: Promise.race([pickedPromise, cancelPromise]),\n",
              "    response: {\n",
              "      action: 'starting',\n",
              "    }\n",
              "  };\n",
              "\n",
              "  cancel.remove();\n",
              "\n",
              "  // Disable the input element since further picks are not allowed.\n",
              "  inputElement.disabled = true;\n",
              "\n",
              "  if (!files) {\n",
              "    return {\n",
              "      response: {\n",
              "        action: 'complete',\n",
              "      }\n",
              "    };\n",
              "  }\n",
              "\n",
              "  for (const file of files) {\n",
              "    const li = document.createElement('li');\n",
              "    li.append(span(file.name, {fontWeight: 'bold'}));\n",
              "    li.append(span(\n",
              "        `(${file.type || 'n/a'}) - ${file.size} bytes, ` +\n",
              "        `last modified: ${\n",
              "            file.lastModifiedDate ? file.lastModifiedDate.toLocaleDateString() :\n",
              "                                    'n/a'} - `));\n",
              "    const percent = span('0% done');\n",
              "    li.appendChild(percent);\n",
              "\n",
              "    outputElement.appendChild(li);\n",
              "\n",
              "    const fileDataPromise = new Promise((resolve) => {\n",
              "      const reader = new FileReader();\n",
              "      reader.onload = (e) => {\n",
              "        resolve(e.target.result);\n",
              "      };\n",
              "      reader.readAsArrayBuffer(file);\n",
              "    });\n",
              "    // Wait for the data to be ready.\n",
              "    let fileData = yield {\n",
              "      promise: fileDataPromise,\n",
              "      response: {\n",
              "        action: 'continue',\n",
              "      }\n",
              "    };\n",
              "\n",
              "    // Use a chunked sending to avoid message size limits. See b/62115660.\n",
              "    let position = 0;\n",
              "    do {\n",
              "      const length = Math.min(fileData.byteLength - position, MAX_PAYLOAD_SIZE);\n",
              "      const chunk = new Uint8Array(fileData, position, length);\n",
              "      position += length;\n",
              "\n",
              "      const base64 = btoa(String.fromCharCode.apply(null, chunk));\n",
              "      yield {\n",
              "        response: {\n",
              "          action: 'append',\n",
              "          file: file.name,\n",
              "          data: base64,\n",
              "        },\n",
              "      };\n",
              "\n",
              "      let percentDone = fileData.byteLength === 0 ?\n",
              "          100 :\n",
              "          Math.round((position / fileData.byteLength) * 100);\n",
              "      percent.textContent = `${percentDone}% done`;\n",
              "\n",
              "    } while (position < fileData.byteLength);\n",
              "  }\n",
              "\n",
              "  // All done.\n",
              "  yield {\n",
              "    response: {\n",
              "      action: 'complete',\n",
              "    }\n",
              "  };\n",
              "}\n",
              "\n",
              "scope.google = scope.google || {};\n",
              "scope.google.colab = scope.google.colab || {};\n",
              "scope.google.colab._files = {\n",
              "  _uploadFiles,\n",
              "  _uploadFilesContinue,\n",
              "};\n",
              "})(self);\n",
              "</script> "
            ]
          },
          "metadata": {}
        },
        {
          "output_type": "stream",
          "name": "stdout",
          "text": [
            "Saving courier-service_reviews.csv to courier-service_reviews (1).csv\n"
          ]
        }
      ]
    },
    {
      "cell_type": "markdown",
      "metadata": {
        "id": "ykLYC3zzSr8z"
      },
      "source": [
        "### Installation"
      ]
    },
    {
      "cell_type": "markdown",
      "metadata": {
        "id": "YFZj9kr8Pahl"
      },
      "source": [
        "### Imports"
      ]
    },
    {
      "cell_type": "code",
      "execution_count": 33,
      "metadata": {
        "id": "Q3gwxSqQPahl"
      },
      "outputs": [],
      "source": [
        "# Import all Python packages required to access the Azure Open AI API.\n",
        "# Import additional packages required to access datasets and create examples.\n",
        "\n",
        "from openai import AzureOpenAI\n",
        "import json\n",
        "import random\n",
        "import tiktoken\n",
        "import session_info\n",
        "import numpy as np\n",
        "\n",
        "from collections import Counter\n",
        "from tqdm import tqdm\n",
        "from sklearn.model_selection import train_test_split\n",
        "from sklearn.metrics import f1_score\n",
        "from tabulate import tabulate"
      ]
    },
    {
      "cell_type": "code",
      "source": [
        "import pandas as pd\n",
        "from sklearn.model_selection import train_test_split\n",
        "\n",
        "# Upload and Read CSV File\n",
        "# Read the CSV file\n",
        "df = pd.read_csv('/content/courier-service_reviews.csv')\n",
        "\n",
        "# Display the first few rows of the dataframe\n",
        "\n",
        "print(df.head())\n",
        "\n",
        "# Count Positive and Negative Sentiment Reviews\n",
        "# Count the number of positive and negative sentiment reviews\n",
        "sentiment_counts = df['sentiment'].value_counts()\n",
        "# Display the shapes of the training and testing sets\n",
        "print(f'\\nTraining set shape: {train_df.shape}')\n",
        "print(f'Testing set shape: {test_df.shape}')\n"
      ],
      "metadata": {
        "colab": {
          "base_uri": "https://localhost:8080/"
        },
        "id": "gOVTKJ6bzCo9",
        "outputId": "dff982c1-ef8d-4a65-83d5-13db8595683c"
      },
      "execution_count": 86,
      "outputs": [
        {
          "output_type": "stream",
          "name": "stdout",
          "text": [
            "   id                                             review sentiment\n",
            "0   1  ExpressWay Logistics' commitment to transparen...  Positive\n",
            "1   2  The tracking system implemented by ExpressWay ...  Positive\n",
            "2   3  ExpressWay Logistics is a lifesaver when it co...  Positive\n",
            "3   4  Expressway Logistics is the worst courier serv...  Negative\n",
            "4   5  ExpressWay Logistics failed to meet my expecta...  Negative\n",
            "\n",
            "Training set shape: (104, 3)\n",
            "Testing set shape: (27, 3)\n"
          ]
        }
      ]
    },
    {
      "cell_type": "markdown",
      "metadata": {
        "id": "SN0wIDUjPahn"
      },
      "source": [
        "### Authentication"
      ]
    },
    {
      "cell_type": "markdown",
      "metadata": {
        "id": "FvDZdCMhzgGQ"
      },
      "source": [
        "**(A) Writing/Creating the config.json file (2 Marks)**"
      ]
    },
    {
      "cell_type": "code",
      "execution_count": 44,
      "metadata": {
        "id": "2tdRk05EzgGQ"
      },
      "outputs": [],
      "source": [
        "# Define your configuration information\n",
        "config_data = {\n",
        "    \"AZURE_OPENAI_KEY\": \"<b14a8505bbc24a9099ad80e2bd694d0a>\",            #Replace it with your credentials\n",
        "    \"AZURE_OPENAI_ENDPOINT\": \"<https://finalprojectsentanalysis.openai.azure.com/>\",      #Replace it with your credentials\n",
        "    \"AZURE_OPENAI_APIVERSION\": \"<0301>\", #Replace it with your credentials\n",
        "    \"CHATGPT_MODEL\": \"<gpt-35-turbo>\"             #Replace it with your credentials\n",
        "}"
      ]
    },
    {
      "cell_type": "code",
      "execution_count": 37,
      "metadata": {
        "colab": {
          "base_uri": "https://localhost:8080/"
        },
        "id": "cO4TwVYHzgGQ",
        "outputId": "4e665c3d-8bbd-43cb-ac77-2631756fa1f3"
      },
      "outputs": [
        {
          "output_type": "stream",
          "name": "stdout",
          "text": [
            "Config file created successfully!\n"
          ]
        }
      ],
      "source": [
        "# Write the configuration information into the config.json file\n",
        "with open('config.json', 'w') as config_file:\n",
        "    json.dump(config_data, config_file, indent=4)\n",
        "\n",
        "print(\"Config file created successfully!\")"
      ]
    },
    {
      "cell_type": "code",
      "execution_count": 38,
      "metadata": {
        "id": "cxLhZIviPahn"
      },
      "outputs": [],
      "source": [
        "with open('config.json', 'r') as az_creds:\n",
        "    data = az_creds.read()"
      ]
    },
    {
      "cell_type": "code",
      "execution_count": 39,
      "metadata": {
        "id": "nL9GpBEVPahn"
      },
      "outputs": [],
      "source": [
        "creds = json.loads(data)"
      ]
    },
    {
      "cell_type": "code",
      "execution_count": 46,
      "metadata": {
        "id": "Ud7bPDquPahp"
      },
      "outputs": [],
      "source": [
        "# Assuming creds is a dictionary with the necessary keys\n",
        "creds = {\n",
        "    \"azure_endpoint\": \"https://finalprojectsentanalysis.openai.azure.com/\",\n",
        "    \"api_key\": \"b14a8505bbc24a9099ad80e2bd694d0a\",\n",
        "    \"api_version\": \"0301\"\n",
        "}\n",
        "\n",
        "client = AzureOpenAI(\n",
        "    azure_endpoint=creds[\"azure_endpoint\"],  # Use the correct key to access the endpoint\n",
        "    api_key=creds[\"api_key\"],                # Use the correct key to access the API key\n",
        "    api_version=creds[\"api_version\"]         # Use the correct key to access the API version\n",
        ")"
      ]
    },
    {
      "cell_type": "markdown",
      "metadata": {
        "id": "HQpkd5elTMhd"
      },
      "source": [
        "### Utilities"
      ]
    },
    {
      "cell_type": "code",
      "execution_count": 52,
      "metadata": {
        "id": "V5Gp-_CxPahp"
      },
      "outputs": [],
      "source": [
        "def num_tokens_from_messages(messages):\n",
        "\n",
        "    \"\"\"\n",
        "    Return the number of tokens used by a list of messages.\n",
        "    Adapted from the Open AI cookbook token counter\n",
        "    \"\"\"\n",
        "\n",
        "    encoding = tiktoken.encoding_for_model(\"gpt-3.5-turbo\")\n",
        "\n",
        "    # Each message is sandwiched with <|start|>role and <|end|>\n",
        "    # Hence, messages look like: <|start|>system or user or assistant{message}<|end|>\n",
        "\n",
        "    tokens_per_message = 3 # token1:<|start|>, token2:system(or user or assistant), token3:<|end|>\n",
        "\n",
        "    num_tokens = 0\n",
        "\n",
        "    for message in messages:\n",
        "        num_tokens += tokens_per_message\n",
        "        for key, value in message.items():\n",
        "            num_tokens += len(encoding.encode(value))\n",
        "\n",
        "    num_tokens += 3  # every reply is primed with <|start|>assistant<|message|>\n",
        "\n",
        "    return num_tokens"
      ]
    },
    {
      "cell_type": "markdown",
      "metadata": {
        "id": "3sP7s5TDPahq"
      },
      "source": [
        "## Task : Sentiment Analysis"
      ]
    },
    {
      "cell_type": "markdown",
      "metadata": {
        "id": "WhctrBwFPahq"
      },
      "source": [
        "##**Step 2: Assemble Data (5 Marks)**\n",
        "\n",
        "(A) Upload and Read csv File (2 Marks)\n",
        "\n",
        "(B) Count Positive and Negative Sentiment Reviews (1 Marks)\n",
        "\n",
        "(C) Split the Dataset (2 Marks)"
      ]
    },
    {
      "cell_type": "markdown",
      "metadata": {
        "id": "bLK-296WzgGS"
      },
      "source": [
        "**(A) Upload and read csv file (2 Marks)**"
      ]
    },
    {
      "cell_type": "code",
      "source": [
        "from google.colab import sheets\n",
        "sheet = sheets.InteractiveSheet(df=df)"
      ],
      "metadata": {
        "colab": {
          "base_uri": "https://localhost:8080/",
          "height": 694
        },
        "id": "zOGDlH9-24Zs",
        "outputId": "3b07b23b-ad76-40a6-ac83-2221ff4462c0"
      },
      "execution_count": 32,
      "outputs": [
        {
          "output_type": "stream",
          "name": "stdout",
          "text": [
            "https://docs.google.com/spreadsheets/d/1Z0PSmst1hJG6kFZsUX29hRlOyKXO2DOT_ANbhKrCLCc#gid=0\n"
          ]
        },
        {
          "output_type": "stream",
          "name": "stderr",
          "text": [
            "/usr/local/lib/python3.10/dist-packages/google/colab/sheets.py:31: FutureWarning: DataFrame.applymap has been deprecated. Use DataFrame.map instead.\n",
            "  return frame.applymap(_clean_val).replace({np.nan: None})\n"
          ]
        },
        {
          "output_type": "display_data",
          "data": {
            "text/plain": [
              "<IPython.lib.display.IFrame at 0x7837f0a00bb0>"
            ],
            "text/html": [
              "\n",
              "        <iframe\n",
              "            width=\"100%\"\n",
              "            height=\"600\"\n",
              "            src=\"https://docs.google.com/spreadsheets/d/1Z0PSmst1hJG6kFZsUX29hRlOyKXO2DOT_ANbhKrCLCc#gid=0/edit?rm=embedded?usp=sharing?widget=true&amp;headers=false\"\n",
              "            frameborder=\"0\"\n",
              "            allowfullscreen\n",
              "            \n",
              "        ></iframe>\n",
              "        "
            ]
          },
          "metadata": {}
        }
      ]
    },
    {
      "source": [
        "# @title sentiment\n",
        "\n",
        "from matplotlib import pyplot as plt\n",
        "import seaborn as sns\n",
        "df.groupby('sentiment').size().plot(kind='barh', color=sns.palettes.mpl_palette('Dark2'))\n",
        "plt.gca().spines[['top', 'right',]].set_visible(False)"
      ],
      "cell_type": "code",
      "execution_count": 51,
      "outputs": [
        {
          "output_type": "display_data",
          "data": {
            "text/plain": [
              "<Figure size 640x480 with 1 Axes>"
            ],
            "image/png": "[encoded data removed]"
          },
          "metadata": {}
        }
      ],
      "metadata": {
        "colab": {
          "base_uri": "https://localhost:8080/",
          "height": 430
        },
        "id": "EovDE1_11z6R",
        "outputId": "b463c6dc-49d5-4fb9-b46e-c4909b86bf32"
      }
    },
    {
      "cell_type": "markdown",
      "source": [
        "**(B) Count Positive and Negative Sentiment Reviews (1 Marks)**"
      ],
      "metadata": {
        "id": "CKUDLCbC0bfB"
      }
    },
    {
      "cell_type": "code",
      "source": [
        "# Display the counts\n",
        "print(\"\\nSentiment counts:\")\n",
        "print(sentiment_counts)"
      ],
      "metadata": {
        "colab": {
          "base_uri": "https://localhost:8080/"
        },
        "id": "Fdn-yMaw8D6k",
        "outputId": "0bee42bd-2a4d-444f-c1ea-b1c01a93bd35"
      },
      "execution_count": 57,
      "outputs": [
        {
          "output_type": "stream",
          "name": "stdout",
          "text": [
            "\n",
            "Sentiment counts:\n",
            "sentiment\n",
            "Positive    68\n",
            "Negative    63\n",
            "Name: count, dtype: int64\n"
          ]
        }
      ]
    },
    {
      "cell_type": "code",
      "execution_count": 64,
      "metadata": {
        "id": "O5AbhvRV9o-e"
      },
      "outputs": [],
      "source": [
        "# Count Positive and Negative Sentiment Reviews\n",
        "# Count the number of positive and negative sentiment reviews\n",
        "sentiment_counts = df['sentiment'].value_counts()\n"
      ]
    },
    {
      "cell_type": "markdown",
      "metadata": {
        "id": "MiXuxmchzgGT"
      },
      "source": [
        "**(C) Split the Dataset (2 Marks)**"
      ]
    },
    {
      "cell_type": "code",
      "source": [
        "# Split the Dataset\n",
        "# Split the dataset into training and testing sets\n",
        "train_df, test_df = train_test_split(df, test_size=0.2, random_state=42)"
      ],
      "metadata": {
        "id": "Cev4LlIB8KEt"
      },
      "execution_count": 54,
      "outputs": []
    },
    {
      "cell_type": "code",
      "source": [
        "# Display the shapes of the training and testing sets\n",
        "print(f'\\nTraining set shape: {train_df.shape}')\n",
        "print(f'Testing set shape: {test_df.shape}')"
      ],
      "metadata": {
        "colab": {
          "base_uri": "https://localhost:8080/"
        },
        "id": "8jiYU-VY9Djk",
        "outputId": "8590b4aa-b8fd-4f55-80bc-de597fabe31f"
      },
      "execution_count": 63,
      "outputs": [
        {
          "output_type": "stream",
          "name": "stdout",
          "text": [
            "\n",
            "Training set shape: (104, 3)\n",
            "Testing set shape: (27, 3)\n"
          ]
        }
      ]
    },
    {
      "cell_type": "markdown",
      "metadata": {
        "id": "2ExVGFPl4tdx"
      },
      "source": [
        "To select gold examples for this session, we sample randomly from the test data using a `random_state=42`. This ensures that the examples from multiple runs of the sampling are the same (i.e., they are randomly selected but do not change between different runs of the notebook). Note that we are doing this only to keep execution times low for illustration. In practise, large number of gold examples facilitate robust estimates of model accuracy."
      ]
    },
    {
      "cell_type": "code",
      "execution_count": 65,
      "metadata": {
        "id": "YLj4LVu_Ozc_"
      },
      "outputs": [],
      "source": [
        "columns_to_select = ['review','sentiment']"
      ]
    },
    {
      "cell_type": "code",
      "source": [
        "# Assuming the CSV file is already uploaded and read into a DataFrame\n",
        "df = pd.read_csv('/content/courier-service_reviews.csv')"
      ],
      "metadata": {
        "id": "rgwdAJ-C9Ynu"
      },
      "execution_count": 67,
      "outputs": []
    },
    {
      "cell_type": "code",
      "source": [
        "# Sample gold examples from the test data\n",
        "gold_examples = test_df.sample(n=10, random_state=42)  # Adjust 'n' as needed\n",
        "\n",
        "# Display the sampled gold examples\n",
        "print(gold_examples)"
      ],
      "metadata": {
        "colab": {
          "base_uri": "https://localhost:8080/"
        },
        "id": "mqrUyaLK9ad7",
        "outputId": "2f8b0575-bfbc-47fd-8378-0002f69ab6fe"
      },
      "execution_count": 68,
      "outputs": [
        {
          "output_type": "stream",
          "name": "stdout",
          "text": [
            "      id                                             review sentiment\n",
            "81    82  The delivery executive assigned by ExpressWay ...  Positive\n",
            "4      5  ExpressWay Logistics failed to meet my expecta...  Negative\n",
            "26    27  ExpressWay Logistics' incompetence resulted in...  Negative\n",
            "10    11  Kudos to ExpressWay Logistics for their outsta...  Positive\n",
            "55    56  ExpressWay Logistics offers a convenient onlin...  Negative\n",
            "27    28  Planning a destination wedding is undoubtedly ...  Positive\n",
            "36    37  ExpressWay Logistics consistently delivers on ...  Positive\n",
            "80    81  I needed to ship perishable items internationa...  Positive\n",
            "64    65  I appreciated the flexibility offered by Expre...  Negative\n",
            "127  128  While ExpressWay Logistics' pricing is competi...  Negative\n"
          ]
        }
      ]
    },
    {
      "cell_type": "code",
      "execution_count": 69,
      "metadata": {
        "colab": {
          "base_uri": "https://localhost:8080/",
          "height": 363
        },
        "id": "5AcH3eqgzgGV",
        "outputId": "47c6df45-26c2-4725-940d-44ec29fc4be5"
      },
      "outputs": [
        {
          "output_type": "execute_result",
          "data": {
            "text/plain": [
              "      id                                             review sentiment\n",
              "81    82  The delivery executive assigned by ExpressWay ...  Positive\n",
              "4      5  ExpressWay Logistics failed to meet my expecta...  Negative\n",
              "26    27  ExpressWay Logistics' incompetence resulted in...  Negative\n",
              "10    11  Kudos to ExpressWay Logistics for their outsta...  Positive\n",
              "55    56  ExpressWay Logistics offers a convenient onlin...  Negative\n",
              "27    28  Planning a destination wedding is undoubtedly ...  Positive\n",
              "36    37  ExpressWay Logistics consistently delivers on ...  Positive\n",
              "80    81  I needed to ship perishable items internationa...  Positive\n",
              "64    65  I appreciated the flexibility offered by Expre...  Negative\n",
              "127  128  While ExpressWay Logistics' pricing is competi...  Negative"
            ],
            "text/html": [
              "\n",
              "  <div id=\"df-f7323c63-d26c-4b97-995b-19f5c0e798e9\" class=\"colab-df-container\">\n",
              "    <div>\n",
              "<style scoped>\n",
              "    .dataframe tbody tr th:only-of-type {\n",
              "        vertical-align: middle;\n",
              "    }\n",
              "\n",
              "    .dataframe tbody tr th {\n",
              "        vertical-align: top;\n",
              "    }\n",
              "\n",
              "    .dataframe thead th {\n",
              "        text-align: right;\n",
              "    }\n",
              "</style>\n",
              "<table border=\"1\" class=\"dataframe\">\n",
              "  <thead>\n",
              "    <tr style=\"text-align: right;\">\n",
              "      <th></th>\n",
              "      <th>id</th>\n",
              "      <th>review</th>\n",
              "      <th>sentiment</th>\n",
              "    </tr>\n",
              "  </thead>\n",
              "  <tbody>\n",
              "    <tr>\n",
              "      <th>81</th>\n",
              "      <td>82</td>\n",
              "      <td>The delivery executive assigned by ExpressWay ...</td>\n",
              "      <td>Positive</td>\n",
              "    </tr>\n",
              "    <tr>\n",
              "      <th>4</th>\n",
              "      <td>5</td>\n",
              "      <td>ExpressWay Logistics failed to meet my expecta...</td>\n",
              "      <td>Negative</td>\n",
              "    </tr>\n",
              "    <tr>\n",
              "      <th>26</th>\n",
              "      <td>27</td>\n",
              "      <td>ExpressWay Logistics' incompetence resulted in...</td>\n",
              "      <td>Negative</td>\n",
              "    </tr>\n",
              "    <tr>\n",
              "      <th>10</th>\n",
              "      <td>11</td>\n",
              "      <td>Kudos to ExpressWay Logistics for their outsta...</td>\n",
              "      <td>Positive</td>\n",
              "    </tr>\n",
              "    <tr>\n",
              "      <th>55</th>\n",
              "      <td>56</td>\n",
              "      <td>ExpressWay Logistics offers a convenient onlin...</td>\n",
              "      <td>Negative</td>\n",
              "    </tr>\n",
              "    <tr>\n",
              "      <th>27</th>\n",
              "      <td>28</td>\n",
              "      <td>Planning a destination wedding is undoubtedly ...</td>\n",
              "      <td>Positive</td>\n",
              "    </tr>\n",
              "    <tr>\n",
              "      <th>36</th>\n",
              "      <td>37</td>\n",
              "      <td>ExpressWay Logistics consistently delivers on ...</td>\n",
              "      <td>Positive</td>\n",
              "    </tr>\n",
              "    <tr>\n",
              "      <th>80</th>\n",
              "      <td>81</td>\n",
              "      <td>I needed to ship perishable items internationa...</td>\n",
              "      <td>Positive</td>\n",
              "    </tr>\n",
              "    <tr>\n",
              "      <th>64</th>\n",
              "      <td>65</td>\n",
              "      <td>I appreciated the flexibility offered by Expre...</td>\n",
              "      <td>Negative</td>\n",
              "    </tr>\n",
              "    <tr>\n",
              "      <th>127</th>\n",
              "      <td>128</td>\n",
              "      <td>While ExpressWay Logistics' pricing is competi...</td>\n",
              "      <td>Negative</td>\n",
              "    </tr>\n",
              "  </tbody>\n",
              "</table>\n",
              "</div>\n",
              "    <div class=\"colab-df-buttons\">\n",
              "\n",
              "  <div class=\"colab-df-container\">\n",
              "    <button class=\"colab-df-convert\" onclick=\"convertToInteractive('df-f7323c63-d26c-4b97-995b-19f5c0e798e9')\"\n",
              "            title=\"Convert this dataframe to an interactive table.\"\n",
              "            style=\"display:none;\">\n",
              "\n",
              "  <svg xmlns=\"http://www.w3.org/2000/svg\" height=\"24px\" viewBox=\"0 -960 960 960\">\n",
              "    <path d=\"M120-120v-720h720v720H120Zm60-500h600v-160H180v160Zm220 220h160v-160H400v160Zm0 220h160v-160H400v160ZM180-400h160v-160H180v160Zm440 0h160v-160H620v160ZM180-180h160v-160H180v160Zm440 0h160v-160H620v160Z\"/>\n",
              "  </svg>\n",
              "    </button>\n",
              "\n",
              "  <style>\n",
              "    .colab-df-container {\n",
              "      display:flex;\n",
              "      gap: 12px;\n",
              "    }\n",
              "\n",
              "    .colab-df-convert {\n",
              "      background-color: #E8F0FE;\n",
              "      border: none;\n",
              "      border-radius: 50%;\n",
              "      cursor: pointer;\n",
              "      display: none;\n",
              "      fill: #1967D2;\n",
              "      height: 32px;\n",
              "      padding: 0 0 0 0;\n",
              "      width: 32px;\n",
              "    }\n",
              "\n",
              "    .colab-df-convert:hover {\n",
              "      background-color: #E2EBFA;\n",
              "      box-shadow: 0px 1px 2px rgba(60, 64, 67, 0.3), 0px 1px 3px 1px rgba(60, 64, 67, 0.15);\n",
              "      fill: #174EA6;\n",
              "    }\n",
              "\n",
              "    .colab-df-buttons div {\n",
              "      margin-bottom: 4px;\n",
              "    }\n",
              "\n",
              "    [theme=dark] .colab-df-convert {\n",
              "      background-color: #3B4455;\n",
              "      fill: #D2E3FC;\n",
              "    }\n",
              "\n",
              "    [theme=dark] .colab-df-convert:hover {\n",
              "      background-color: #434B5C;\n",
              "      box-shadow: 0px 1px 3px 1px rgba(0, 0, 0, 0.15);\n",
              "      filter: drop-shadow(0px 1px 2px rgba(0, 0, 0, 0.3));\n",
              "      fill: #FFFFFF;\n",
              "    }\n",
              "  </style>\n",
              "\n",
              "    <script>\n",
              "      const buttonEl =\n",
              "        document.querySelector('#df-f7323c63-d26c-4b97-995b-19f5c0e798e9 button.colab-df-convert');\n",
              "      buttonEl.style.display =\n",
              "        google.colab.kernel.accessAllowed ? 'block' : 'none';\n",
              "\n",
              "      async function convertToInteractive(key) {\n",
              "        const element = document.querySelector('#df-f7323c63-d26c-4b97-995b-19f5c0e798e9');\n",
              "        const dataTable =\n",
              "          await google.colab.kernel.invokeFunction('convertToInteractive',\n",
              "                                                    [key], {});\n",
              "        if (!dataTable) return;\n",
              "\n",
              "        const docLinkHtml = 'Like what you see? Visit the ' +\n",
              "          '<a target=\"_blank\" href=https://colab.research.google.com/notebooks/data_table.ipynb>data table notebook</a>'\n",
              "          + ' to learn more about interactive tables.';\n",
              "        element.innerHTML = '';\n",
              "        dataTable['output_type'] = 'display_data';\n",
              "        await google.colab.output.renderOutput(dataTable, element);\n",
              "        const docLink = document.createElement('div');\n",
              "        docLink.innerHTML = docLinkHtml;\n",
              "        element.appendChild(docLink);\n",
              "      }\n",
              "    </script>\n",
              "  </div>\n",
              "\n",
              "\n",
              "<div id=\"df-ab14ce7e-53ee-48fb-979f-65b6bace0f50\">\n",
              "  <button class=\"colab-df-quickchart\" onclick=\"quickchart('df-ab14ce7e-53ee-48fb-979f-65b6bace0f50')\"\n",
              "            title=\"Suggest charts\"\n",
              "            style=\"display:none;\">\n",
              "\n",
              "<svg xmlns=\"http://www.w3.org/2000/svg\" height=\"24px\"viewBox=\"0 0 24 24\"\n",
              "     width=\"24px\">\n",
              "    <g>\n",
              "        <path d=\"M19 3H5c-1.1 0-2 .9-2 2v14c0 1.1.9 2 2 2h14c1.1 0 2-.9 2-2V5c0-1.1-.9-2-2-2zM9 17H7v-7h2v7zm4 0h-2V7h2v10zm4 0h-2v-4h2v4z\"/>\n",
              "    </g>\n",
              "</svg>\n",
              "  </button>\n",
              "\n",
              "<style>\n",
              "  .colab-df-quickchart {\n",
              "      --bg-color: #E8F0FE;\n",
              "      --fill-color: #1967D2;\n",
              "      --hover-bg-color: #E2EBFA;\n",
              "      --hover-fill-color: #174EA6;\n",
              "      --disabled-fill-color: #AAA;\n",
              "      --disabled-bg-color: #DDD;\n",
              "  }\n",
              "\n",
              "  [theme=dark] .colab-df-quickchart {\n",
              "      --bg-color: #3B4455;\n",
              "      --fill-color: #D2E3FC;\n",
              "      --hover-bg-color: #434B5C;\n",
              "      --hover-fill-color: #FFFFFF;\n",
              "      --disabled-bg-color: #3B4455;\n",
              "      --disabled-fill-color: #666;\n",
              "  }\n",
              "\n",
              "  .colab-df-quickchart {\n",
              "    background-color: var(--bg-color);\n",
              "    border: none;\n",
              "    border-radius: 50%;\n",
              "    cursor: pointer;\n",
              "    display: none;\n",
              "    fill: var(--fill-color);\n",
              "    height: 32px;\n",
              "    padding: 0;\n",
              "    width: 32px;\n",
              "  }\n",
              "\n",
              "  .colab-df-quickchart:hover {\n",
              "    background-color: var(--hover-bg-color);\n",
              "    box-shadow: 0 1px 2px rgba(60, 64, 67, 0.3), 0 1px 3px 1px rgba(60, 64, 67, 0.15);\n",
              "    fill: var(--button-hover-fill-color);\n",
              "  }\n",
              "\n",
              "  .colab-df-quickchart-complete:disabled,\n",
              "  .colab-df-quickchart-complete:disabled:hover {\n",
              "    background-color: var(--disabled-bg-color);\n",
              "    fill: var(--disabled-fill-color);\n",
              "    box-shadow: none;\n",
              "  }\n",
              "\n",
              "  .colab-df-spinner {\n",
              "    border: 2px solid var(--fill-color);\n",
              "    border-color: transparent;\n",
              "    border-bottom-color: var(--fill-color);\n",
              "    animation:\n",
              "      spin 1s steps(1) infinite;\n",
              "  }\n",
              "\n",
              "  @keyframes spin {\n",
              "    0% {\n",
              "      border-color: transparent;\n",
              "      border-bottom-color: var(--fill-color);\n",
              "      border-left-color: var(--fill-color);\n",
              "    }\n",
              "    20% {\n",
              "      border-color: transparent;\n",
              "      border-left-color: var(--fill-color);\n",
              "      border-top-color: var(--fill-color);\n",
              "    }\n",
              "    30% {\n",
              "      border-color: transparent;\n",
              "      border-left-color: var(--fill-color);\n",
              "      border-top-color: var(--fill-color);\n",
              "      border-right-color: var(--fill-color);\n",
              "    }\n",
              "    40% {\n",
              "      border-color: transparent;\n",
              "      border-right-color: var(--fill-color);\n",
              "      border-top-color: var(--fill-color);\n",
              "    }\n",
              "    60% {\n",
              "      border-color: transparent;\n",
              "      border-right-color: var(--fill-color);\n",
              "    }\n",
              "    80% {\n",
              "      border-color: transparent;\n",
              "      border-right-color: var(--fill-color);\n",
              "      border-bottom-color: var(--fill-color);\n",
              "    }\n",
              "    90% {\n",
              "      border-color: transparent;\n",
              "      border-bottom-color: var(--fill-color);\n",
              "    }\n",
              "  }\n",
              "</style>\n",
              "\n",
              "  <script>\n",
              "    async function quickchart(key) {\n",
              "      const quickchartButtonEl =\n",
              "        document.querySelector('#' + key + ' button');\n",
              "      quickchartButtonEl.disabled = true;  // To prevent multiple clicks.\n",
              "      quickchartButtonEl.classList.add('colab-df-spinner');\n",
              "      try {\n",
              "        const charts = await google.colab.kernel.invokeFunction(\n",
              "            'suggestCharts', [key], {});\n",
              "      } catch (error) {\n",
              "        console.error('Error during call to suggestCharts:', error);\n",
              "      }\n",
              "      quickchartButtonEl.classList.remove('colab-df-spinner');\n",
              "      quickchartButtonEl.classList.add('colab-df-quickchart-complete');\n",
              "    }\n",
              "    (() => {\n",
              "      let quickchartButtonEl =\n",
              "        document.querySelector('#df-ab14ce7e-53ee-48fb-979f-65b6bace0f50 button');\n",
              "      quickchartButtonEl.style.display =\n",
              "        google.colab.kernel.accessAllowed ? 'block' : 'none';\n",
              "    })();\n",
              "  </script>\n",
              "</div>\n",
              "\n",
              "  <div id=\"id_a5ddfcb9-bb9e-4022-802d-87baeb35dea5\">\n",
              "    <style>\n",
              "      .colab-df-generate {\n",
              "        background-color: #E8F0FE;\n",
              "        border: none;\n",
              "        border-radius: 50%;\n",
              "        cursor: pointer;\n",
              "        display: none;\n",
              "        fill: #1967D2;\n",
              "        height: 32px;\n",
              "        padding: 0 0 0 0;\n",
              "        width: 32px;\n",
              "      }\n",
              "\n",
              "      .colab-df-generate:hover {\n",
              "        background-color: #E2EBFA;\n",
              "        box-shadow: 0px 1px 2px rgba(60, 64, 67, 0.3), 0px 1px 3px 1px rgba(60, 64, 67, 0.15);\n",
              "        fill: #174EA6;\n",
              "      }\n",
              "\n",
              "      [theme=dark] .colab-df-generate {\n",
              "        background-color: #3B4455;\n",
              "        fill: #D2E3FC;\n",
              "      }\n",
              "\n",
              "      [theme=dark] .colab-df-generate:hover {\n",
              "        background-color: #434B5C;\n",
              "        box-shadow: 0px 1px 3px 1px rgba(0, 0, 0, 0.15);\n",
              "        filter: drop-shadow(0px 1px 2px rgba(0, 0, 0, 0.3));\n",
              "        fill: #FFFFFF;\n",
              "      }\n",
              "    </style>\n",
              "    <button class=\"colab-df-generate\" onclick=\"generateWithVariable('gold_examples')\"\n",
              "            title=\"Generate code using this dataframe.\"\n",
              "            style=\"display:none;\">\n",
              "\n",
              "  <svg xmlns=\"http://www.w3.org/2000/svg\" height=\"24px\"viewBox=\"0 0 24 24\"\n",
              "       width=\"24px\">\n",
              "    <path d=\"M7,19H8.4L18.45,9,17,7.55,7,17.6ZM5,21V16.75L18.45,3.32a2,2,0,0,1,2.83,0l1.4,1.43a1.91,1.91,0,0,1,.58,1.4,1.91,1.91,0,0,1-.58,1.4L9.25,21ZM18.45,9,17,7.55Zm-12,3A5.31,5.31,0,0,0,4.9,8.1,5.31,5.31,0,0,0,1,6.5,5.31,5.31,0,0,0,4.9,4.9,5.31,5.31,0,0,0,6.5,1,5.31,5.31,0,0,0,8.1,4.9,5.31,5.31,0,0,0,12,6.5,5.46,5.46,0,0,0,6.5,12Z\"/>\n",
              "  </svg>\n",
              "    </button>\n",
              "    <script>\n",
              "      (() => {\n",
              "      const buttonEl =\n",
              "        document.querySelector('#id_a5ddfcb9-bb9e-4022-802d-87baeb35dea5 button.colab-df-generate');\n",
              "      buttonEl.style.display =\n",
              "        google.colab.kernel.accessAllowed ? 'block' : 'none';\n",
              "\n",
              "      buttonEl.onclick = () => {\n",
              "        google.colab.notebook.generateWithVariable('gold_examples');\n",
              "      }\n",
              "      })();\n",
              "    </script>\n",
              "  </div>\n",
              "\n",
              "    </div>\n",
              "  </div>\n"
            ],
            "application/vnd.google.colaboratory.intrinsic+json": {
              "type": "dataframe",
              "variable_name": "gold_examples",
              "summary": "{\n  \"name\": \"gold_examples\",\n  \"rows\": 10,\n  \"fields\": [\n    {\n      \"column\": \"id\",\n      \"properties\": {\n        \"dtype\": \"number\",\n        \"std\": 38,\n        \"min\": 5,\n        \"max\": 128,\n        \"num_unique_values\": 10,\n        \"samples\": [\n          65,\n          5,\n          28\n        ],\n        \"semantic_type\": \"\",\n        \"description\": \"\"\n      }\n    },\n    {\n      \"column\": \"review\",\n      \"properties\": {\n        \"dtype\": \"string\",\n        \"num_unique_values\": 10,\n        \"samples\": [\n          \"I appreciated the flexibility offered by ExpressWay Logistics in terms of delivery options. Their range of delivery speeds and service levels allowed me to choose the option that best suited my needs and budget.However, I was slightly disappointed by the lack of transparency regarding few additional fees and surcharges. I selected a specific delivery option and paid minor charges at checkout, which undermined the initial affordability of the service..\",\n          \"ExpressWay Logistics failed to meet my expectations. The delivery was delayed, and the customer support team was unresponsive and unhelpful when I tried to inquire about the status of my parcel.\",\n          \"Planning a destination wedding is undoubtedly a daunting task, especially when it comes to coordinating transportation for guests and wedding essentials. Fortunately, ExpressWay Logistics made this aspect of our wedding planning effortless. From the beginning, they were attentive to our needs and provided valuable insights to streamline the process.\"\n        ],\n        \"semantic_type\": \"\",\n        \"description\": \"\"\n      }\n    },\n    {\n      \"column\": \"sentiment\",\n      \"properties\": {\n        \"dtype\": \"category\",\n        \"num_unique_values\": 2,\n        \"samples\": [\n          \"Negative\",\n          \"Positive\"\n        ],\n        \"semantic_type\": \"\",\n        \"description\": \"\"\n      }\n    }\n  ]\n}"
            }
          },
          "metadata": {},
          "execution_count": 69
        }
      ],
      "source": [
        "gold_examples"
      ]
    },
    {
      "cell_type": "code",
      "execution_count": 71,
      "metadata": {
        "colab": {
          "base_uri": "https://localhost:8080/"
        },
        "id": "r8J58KMMM95s",
        "outputId": "2a0d160b-e5d6-4382-c300-19d5d583be03"
      },
      "outputs": [
        {
          "output_type": "stream",
          "name": "stdout",
          "text": [
            "JSON string of gold examples:\n",
            "[{\"id\":82,\"review\":\"The delivery executive assigned by ExpressWay Logistics was courteous and professional during the delivery process. They tried their best to handle the package with care.Unfortunately, the package arrived with slight damage despite the delivery executive's efforts. The packaging seemed more than adequate to protect the contents during transit.\",\"sentiment\":\"Positive\"},{\"id\":5,\"review\":\"ExpressWay Logistics failed to meet my expectations. The delivery was delayed, and the customer support team was unresponsive and unhelpful when I tried to inquire about the status of my parcel.\",\"sentiment\":\"Negative\"},{\"id\":27,\"review\":\"ExpressWay Logistics' incompetence resulted in a major inconvenience when my package was delivered to the wrong recipient. Despite providing accurate delivery information, the package ended up in the hands of someone else, and efforts to retrieve it were unsuccessful. When I contacted customer service for assistance, I was met with apathy and a lack of urgency. Their failure to rectify the situation in a timely manner is unacceptable, and I will be avoiding their services at all costs.\",\"sentiment\":\"Negative\"},{\"id\":11,\"review\":\"Kudos to ExpressWay Logistics for their outstanding service! They've been an essential partner for my business, handling all our shipping needs with professionalism and efficiency. If you're looking for a reliable logistic service provider, look no further than ExpressWay Logistics.\",\"sentiment\":\"Positive\"},{\"id\":56,\"review\":\"ExpressWay Logistics offers a convenient online platform for booking shipments, and their competitive rates initially drew me in. However, the frequent delays in delivery and lack of transparency regarding additional fees have soured my experience. While their customer service representatives are polite, they often seem powerless to resolve issues effectively.This lack of care and responsibilites from the concerned teams have led me unsatisfied and irritated.I cannot trust and rely on this again.Will definitely not contact them ever for my courier deliveries!\",\"sentiment\":\"Negative\"},{\"id\":28,\"review\":\"Planning a destination wedding is undoubtedly a daunting task, especially when it comes to coordinating transportation for guests and wedding essentials. Fortunately, ExpressWay Logistics made this aspect of our wedding planning effortless. From the beginning, they were attentive to our needs and provided valuable insights to streamline the process.\",\"sentiment\":\"Positive\"},{\"id\":37,\"review\":\"ExpressWay Logistics consistently delivers on its promises, providing fast, efficient, and reliable courier services that exceeded my expectations.\",\"sentiment\":\"Positive\"},{\"id\":81,\"review\":\"I needed to ship perishable items internationally, and ExpressWay Logistics handled the process flawlessly. They ensured that the items were properly packaged and transported in temperature-controlled conditions.\",\"sentiment\":\"Positive\"},{\"id\":65,\"review\":\"I appreciated the flexibility offered by ExpressWay Logistics in terms of delivery options. Their range of delivery speeds and service levels allowed me to choose the option that best suited my needs and budget.However, I was slightly disappointed by the lack of transparency regarding few additional fees and surcharges. I selected a specific delivery option and paid minor charges at checkout, which undermined the initial affordability of the service..\",\"sentiment\":\"Negative\"},{\"id\":128,\"review\":\"While ExpressWay Logistics' pricing is competitive, their lack of accountability for delays and damages is disappointing. It's frustrating to pay for a service that fails to deliver on its promises consistently.\",\"sentiment\":\"Negative\"}]\n",
            "\n",
            "First example in JSON format:\n",
            "{'id': 82, 'review': \"The delivery executive assigned by ExpressWay Logistics was courteous and professional during the delivery process. They tried their best to handle the package with care.Unfortunately, the package arrived with slight damage despite the delivery executive's efforts. The packaging seemed more than adequate to protect the contents during transit.\", 'sentiment': 'Positive'}\n"
          ]
        }
      ],
      "source": [
        "import pandas as pd\n",
        "import json\n",
        "\n",
        "# Assuming gold_examples is a DataFrame\n",
        "gold_examples_json = gold_examples.to_json(orient='records')\n",
        "\n",
        "# Display the JSON string\n",
        "print(\"JSON string of gold examples:\")\n",
        "print(gold_examples_json)\n",
        "\n",
        "# Load the JSON string\n",
        "gold_examples_list = json.loads(gold_examples_json)\n",
        "\n",
        "# Access the first element\n",
        "first_example = gold_examples_list[0]\n",
        "\n",
        "# Display the first example\n",
        "print(\"\\nFirst example in JSON format:\")\n",
        "print(first_example)\n"
      ]
    },
    {
      "cell_type": "markdown",
      "metadata": {
        "id": "ZPsU-h8FPaht"
      },
      "source": [
        "##**Step 3: Derive Prompt (12 Marks)**\n",
        "\n",
        "(A) Write Zero Shot System Message (3 Marks)\n",
        "\n",
        "(B) Create Zero Shot Prompt (2 Marks)\n",
        "\n",
        "(C) Write Few Shot System Message (3 Marks)\n",
        "\n",
        "(D) Create Examples For Few shot prompte (2 Marks)\n",
        "\n",
        "(E) Create Few Shot Prompt (2 Marks)"
      ]
    },
    {
      "cell_type": "code",
      "execution_count": 72,
      "metadata": {
        "id": "NfDUKbCgPahu"
      },
      "outputs": [],
      "source": [
        "user_message_template = \"\"\"```{courier_service_review}```\"\"\""
      ]
    },
    {
      "cell_type": "markdown",
      "metadata": {
        "id": "X3uS8NWfNqBG"
      },
      "source": [
        "**(A) Write Zero Shot System Message (3 Marks)**"
      ]
    },
    {
      "cell_type": "code",
      "source": [
        "# Define the Zero Shot System Message\n",
        "system_message = \"\"\"\n",
        "You are an AI assistant that helps users analyze sentiment in courier service reviews. Your task is to classify each review as either positive or negative based on the text provided.\n",
        "\"\"\"\n",
        "\n",
        "# Print the system message\n",
        "print(system_message)"
      ],
      "metadata": {
        "colab": {
          "base_uri": "https://localhost:8080/"
        },
        "id": "4QkUwHxfE6lA",
        "outputId": "b488df7d-d5c1-4768-a3f8-5561624fdb8a"
      },
      "execution_count": 77,
      "outputs": [
        {
          "output_type": "stream",
          "name": "stdout",
          "text": [
            "\n",
            "You are an AI assistant that helps users analyze sentiment in courier service reviews. Your task is to classify each review as either positive or negative based on the text provided.\n",
            "\n"
          ]
        }
      ]
    },
    {
      "cell_type": "markdown",
      "metadata": {
        "id": "46AWalvrLTxs"
      },
      "source": [
        "**(B) Create Zero Shot Prompt (2 Marks)**"
      ]
    },
    {
      "cell_type": "code",
      "source": [
        "# Define the Zero Shot Prompt\n",
        "zero_shot_prompt = \"\"\"\n",
        "Classify the following review as positive or negative: \"The courier service was prompt and the staff were very friendly.\"\n",
        "\"\"\""
      ],
      "metadata": {
        "id": "FJQLiGtQIDCz"
      },
      "execution_count": 91,
      "outputs": []
    },
    {
      "cell_type": "code",
      "source": [
        "def num_tokens_from_string(string: str, encoding_name: str) -> int:\n",
        "    \"\"\"Returns the number of tokens in a text string.\"\"\"\n",
        "    encoding = tiktoken.get_encoding(encoding_name)\n",
        "    tokens = encoding.encode(string)\n",
        "    return len(tokens)"
      ],
      "metadata": {
        "id": "Qcncwjh1FJ-U"
      },
      "execution_count": 82,
      "outputs": []
    },
    {
      "cell_type": "code",
      "source": [
        "# Example message\n",
        "message = \"The courier service was prompt and the staff were very friendly.\"\n",
        "\n",
        "# Count the number of tokens\n",
        "num_tokens = num_tokens_from_string(message, \"cl100k_base\")\n",
        "\n",
        "# Display the number of tokens\n",
        "print(f\"Number of tokens in the message: {num_tokens}\")"
      ],
      "metadata": {
        "colab": {
          "base_uri": "https://localhost:8080/"
        },
        "id": "9YinGVsUFfei",
        "outputId": "f95a20d1-c39b-4c1c-e51f-e316a718aba2"
      },
      "execution_count": 83,
      "outputs": [
        {
          "output_type": "stream",
          "name": "stdout",
          "text": [
            "Number of tokens in the message: 12\n"
          ]
        }
      ]
    },
    {
      "cell_type": "markdown",
      "source": [
        "**(C) Write Few Shot System Message (3 Marks)**"
      ],
      "metadata": {
        "id": "48bF42gAyQ7Q"
      }
    },
    {
      "cell_type": "code",
      "execution_count": 94,
      "metadata": {
        "id": "2nrW4jzGLdce"
      },
      "outputs": [],
      "source": [
        "# Define the Few-Shot System Message\n",
        "system_message = \"\"\"\n",
        "You are an AI assistant that helps users analyze sentiment in courier service reviews. Your task is to classify each review as either positive or negative based on the text provided. Here are some examples to guide you:\n",
        "\"\"\""
      ]
    },
    {
      "cell_type": "markdown",
      "metadata": {
        "id": "d3ExNtgPRDhJ"
      },
      "source": [
        "Merely selecting random samples from the polarity subsets is not enough because the examples included in a prompt are prone to a set of known biases such as:\n",
        " - Majority label bias (frequent answers in predictions)\n",
        " - Recency bias (examples near the end of the prompt)\n"
      ]
    },
    {
      "cell_type": "markdown",
      "metadata": {
        "id": "bEA_Ab2FRrYB"
      },
      "source": [
        "To avoid these biases, it is important to have a balanced set of examples that are arranged in random order. Let us create a Python function that generates bias-free examples:"
      ]
    },
    {
      "cell_type": "code",
      "execution_count": 102,
      "metadata": {
        "id": "Qb0mLtE9R7ZA",
        "colab": {
          "base_uri": "https://localhost:8080/"
        },
        "outputId": "4889df27-4c35-4643-a4a7-190b33ef6b2d"
      },
      "outputs": [
        {
          "output_type": "stream",
          "name": "stdout",
          "text": [
            "Requirement already satisfied: importlib-metadata in /usr/local/lib/python3.10/dist-packages (8.2.0)\n",
            "Requirement already satisfied: zipp>=0.5 in /usr/local/lib/python3.10/dist-packages (from importlib-metadata) (3.19.2)\n",
            "Imported modules and packages:\n",
            "importlib\n",
            "io\n",
            "json\n",
            "random\n",
            "session_info\n",
            "sys\n",
            "tabulate\n",
            "tiktoken\n",
            "tqdm\n"
          ]
        }
      ],
      "source": [
        "# Install the importlib-metadata library\n",
        "!pip install importlib-metadata\n",
        "\n",
        "# Import necessary libraries\n",
        "import importlib\n",
        "import sys\n",
        "\n",
        "#  Define a function to list all imports\n",
        "def list_imports():\n",
        "    \"\"\"List all imported modules and packages.\"\"\"\n",
        "    imported_modules = set(sys.modules) & set(globals())\n",
        "    return sorted(imported_modules)\n",
        "\n",
        "# Display the list of imports\n",
        "imports = list_imports()\n",
        "print(\"Imported modules and packages:\")\n",
        "for module in imports:\n",
        "    print(module)\n"
      ]
    },
    {
      "cell_type": "code",
      "source": [
        "# List all installed libraries\n",
        "!pip list\n"
      ],
      "metadata": {
        "colab": {
          "base_uri": "https://localhost:8080/"
        },
        "id": "EZwTzrOpLeL7",
        "outputId": "628c9424-2fd4-4c90-c8d5-60c55fa3a470"
      },
      "execution_count": 103,
      "outputs": [
        {
          "output_type": "stream",
          "name": "stdout",
          "text": [
            "Package                          Version\n",
            "-------------------------------- ---------------------\n",
            "absl-py                          1.4.0\n",
            "accelerate                       0.32.1\n",
            "aiohappyeyeballs                 2.3.5\n",
            "aiohttp                          3.10.2\n",
            "aiosignal                        1.3.1\n",
            "alabaster                        0.7.16\n",
            "albucore                         0.0.13\n",
            "albumentations                   1.4.13\n",
            "altair                           4.2.2\n",
            "annotated-types                  0.7.0\n",
            "anyio                            3.7.1\n",
            "argon2-cffi                      23.1.0\n",
            "argon2-cffi-bindings             21.2.0\n",
            "array_record                     0.5.1\n",
            "arviz                            0.18.0\n",
            "asn1crypto                       1.5.1\n",
            "astropy                          6.1.2\n",
            "astropy-iers-data                0.2024.8.5.0.32.23\n",
            "astunparse                       1.6.3\n",
            "async-timeout                    4.0.3\n",
            "atpublic                         4.1.0\n",
            "attrs                            24.2.0\n",
            "audioread                        3.0.1\n",
            "autograd                         1.6.2\n",
            "babel                            2.16.0\n",
            "backcall                         0.2.0\n",
            "beautifulsoup4                   4.12.3\n",
            "bidict                           0.23.1\n",
            "bigframes                        1.13.0\n",
            "bleach                           6.1.0\n",
            "blinker                          1.4\n",
            "blis                             0.7.11\n",
            "blosc2                           2.0.0\n",
            "bokeh                            3.4.3\n",
            "bqplot                           0.12.43\n",
            "branca                           0.7.2\n",
            "build                            1.2.1\n",
            "CacheControl                     0.14.0\n",
            "cachetools                       5.4.0\n",
            "catalogue                        2.0.10\n",
            "certifi                          2024.7.4\n",
            "cffi                             1.17.0\n",
            "chardet                          5.2.0\n",
            "charset-normalizer               3.3.2\n",
            "chex                             0.1.86\n",
            "clarabel                         0.9.0\n",
            "click                            8.1.7\n",
            "click-plugins                    1.1.1\n",
            "cligj                            0.7.2\n",
            "cloudpathlib                     0.18.1\n",
            "cloudpickle                      2.2.1\n",
            "cmake                            3.30.2\n",
            "cmdstanpy                        1.2.4\n",
            "colorcet                         3.1.0\n",
            "colorlover                       0.3.0\n",
            "colour                           0.1.5\n",
            "community                        1.0.0b1\n",
            "confection                       0.1.5\n",
            "cons                             0.4.6\n",
            "contextlib2                      21.6.0\n",
            "contourpy                        1.2.1\n",
            "cryptography                     42.0.8\n",
            "cuda-python                      12.2.1\n",
            "cudf-cu12                        24.4.1\n",
            "cufflinks                        0.17.3\n",
            "cupy-cuda12x                     12.2.0\n",
            "cvxopt                           1.3.2\n",
            "cvxpy                            1.5.2\n",
            "cycler                           0.12.1\n",
            "cymem                            2.0.8\n",
            "Cython                           3.0.11\n",
            "dask                             2024.7.1\n",
            "datascience                      0.17.6\n",
            "datasets                         2.21.0\n",
            "db-dtypes                        1.2.0\n",
            "dbus-python                      1.2.18\n",
            "debugpy                          1.6.6\n",
            "decorator                        4.4.2\n",
            "defusedxml                       0.7.1\n",
            "dill                             0.3.8\n",
            "distributed                      2024.7.1\n",
            "distro                           1.7.0\n",
            "dlib                             19.24.2\n",
            "dm-tree                          0.1.8\n",
            "docstring_parser                 0.16\n",
            "docutils                         0.18.1\n",
            "dopamine_rl                      4.0.9\n",
            "duckdb                           0.10.3\n",
            "earthengine-api                  0.1.415\n",
            "easydict                         1.13\n",
            "ecos                             2.0.14\n",
            "editdistance                     0.8.1\n",
            "eerepr                           0.0.4\n",
            "einops                           0.8.0\n",
            "en-core-web-sm                   3.7.1\n",
            "entrypoints                      0.4\n",
            "et-xmlfile                       1.1.0\n",
            "etils                            1.7.0\n",
            "etuples                          0.3.9\n",
            "eval_type_backport               0.2.0\n",
            "exceptiongroup                   1.2.2\n",
            "fastai                           2.7.16\n",
            "fastcore                         1.5.55\n",
            "fastdownload                     0.0.7\n",
            "fastjsonschema                   2.20.0\n",
            "fastprogress                     1.0.3\n",
            "fastrlock                        0.8.2\n",
            "filelock                         3.15.4\n",
            "fiona                            1.9.6\n",
            "firebase-admin                   6.5.0\n",
            "Flask                            2.2.5\n",
            "flatbuffers                      24.3.25\n",
            "flax                             0.8.4\n",
            "folium                           0.17.0\n",
            "fonttools                        4.53.1\n",
            "frozendict                       2.4.4\n",
            "frozenlist                       1.4.1\n",
            "fsspec                           2024.6.1\n",
            "future                           1.0.0\n",
            "gast                             0.6.0\n",
            "gcsfs                            2024.6.1\n",
            "GDAL                             3.6.4\n",
            "gdown                            5.1.0\n",
            "geemap                           0.33.1\n",
            "gensim                           4.3.3\n",
            "geocoder                         1.38.1\n",
            "geographiclib                    2.0\n",
            "geopandas                        0.14.4\n",
            "geopy                            2.4.1\n",
            "gin-config                       0.5.0\n",
            "glob2                            0.7\n",
            "google                           2.0.3\n",
            "google-ai-generativelanguage     0.6.6\n",
            "google-api-core                  2.19.1\n",
            "google-api-python-client         2.137.0\n",
            "google-auth                      2.27.0\n",
            "google-auth-httplib2             0.2.0\n",
            "google-auth-oauthlib             1.2.1\n",
            "google-cloud-aiplatform          1.59.0\n",
            "google-cloud-bigquery            3.25.0\n",
            "google-cloud-bigquery-connection 1.15.5\n",
            "google-cloud-bigquery-storage    2.25.0\n",
            "google-cloud-bigtable            2.25.0\n",
            "google-cloud-core                2.4.1\n",
            "google-cloud-datastore           2.19.0\n",
            "google-cloud-firestore           2.16.1\n",
            "google-cloud-functions           1.16.5\n",
            "google-cloud-iam                 2.15.2\n",
            "google-cloud-language            2.13.4\n",
            "google-cloud-pubsub              2.23.0\n",
            "google-cloud-resource-manager    1.12.5\n",
            "google-cloud-storage             2.8.0\n",
            "google-cloud-translate           3.15.5\n",
            "google-colab                     1.0.0\n",
            "google-crc32c                    1.5.0\n",
            "google-generativeai              0.7.2\n",
            "google-pasta                     0.2.0\n",
            "google-resumable-media           2.7.2\n",
            "googleapis-common-protos         1.63.2\n",
            "googledrivedownloader            0.4\n",
            "graphviz                         0.20.3\n",
            "greenlet                         3.0.3\n",
            "grpc-google-iam-v1               0.13.1\n",
            "grpcio                           1.64.1\n",
            "grpcio-status                    1.48.2\n",
            "gspread                          6.0.2\n",
            "gspread-dataframe                3.3.1\n",
            "gym                              0.25.2\n",
            "gym-notices                      0.0.8\n",
            "h11                              0.14.0\n",
            "h5netcdf                         1.3.0\n",
            "h5py                             3.11.0\n",
            "holidays                         0.54\n",
            "holoviews                        1.18.3\n",
            "html5lib                         1.1\n",
            "httpcore                         1.0.5\n",
            "httpimport                       1.3.1\n",
            "httplib2                         0.22.0\n",
            "httpx                            0.27.0\n",
            "huggingface-hub                  0.23.5\n",
            "humanize                         4.10.0\n",
            "hyperopt                         0.2.7\n",
            "ibis-framework                   8.0.0\n",
            "idna                             3.7\n",
            "imageio                          2.34.2\n",
            "imageio-ffmpeg                   0.5.1\n",
            "imagesize                        1.4.1\n",
            "imbalanced-learn                 0.12.3\n",
            "imgaug                           0.4.0\n",
            "immutabledict                    4.2.0\n",
            "importlib_metadata               8.2.0\n",
            "importlib_resources              6.4.0\n",
            "imutils                          0.5.4\n",
            "inflect                          7.3.1\n",
            "iniconfig                        2.0.0\n",
            "intel-cmplr-lib-ur               2024.2.1\n",
            "intel-openmp                     2024.2.1\n",
            "ipyevents                        2.0.2\n",
            "ipyfilechooser                   0.6.0\n",
            "ipykernel                        5.5.6\n",
            "ipyleaflet                       0.18.2\n",
            "ipyparallel                      8.8.0\n",
            "ipython                          7.34.0\n",
            "ipython-genutils                 0.2.0\n",
            "ipython-sql                      0.5.0\n",
            "ipytree                          0.2.2\n",
            "ipywidgets                       7.7.1\n",
            "itsdangerous                     2.2.0\n",
            "jax                              0.4.26\n",
            "jaxlib                           0.4.26+cuda12.cudnn89\n",
            "jeepney                          0.7.1\n",
            "jellyfish                        1.1.0\n",
            "jieba                            0.42.1\n",
            "Jinja2                           3.1.4\n",
            "joblib                           1.4.2\n",
            "jsonpickle                       3.2.2\n",
            "jsonschema                       4.23.0\n",
            "jsonschema-specifications        2023.12.1\n",
            "jupyter-client                   6.1.12\n",
            "jupyter-console                  6.1.0\n",
            "jupyter_core                     5.7.2\n",
            "jupyter-server                   1.24.0\n",
            "jupyterlab_pygments              0.3.0\n",
            "jupyterlab_widgets               3.0.11\n",
            "kaggle                           1.6.17\n",
            "kagglehub                        0.2.9\n",
            "keras                            3.4.1\n",
            "keyring                          23.5.0\n",
            "kiwisolver                       1.4.5\n",
            "langcodes                        3.4.0\n",
            "language_data                    1.2.0\n",
            "launchpadlib                     1.10.16\n",
            "lazr.restfulclient               0.14.4\n",
            "lazr.uri                         1.0.6\n",
            "lazy_loader                      0.4\n",
            "libclang                         18.1.1\n",
            "librosa                          0.10.2.post1\n",
            "lightgbm                         4.4.0\n",
            "linkify-it-py                    2.0.3\n",
            "llvmlite                         0.43.0\n",
            "locket                           1.0.0\n",
            "logical-unification              0.4.6\n",
            "lxml                             4.9.4\n",
            "malloy                           2024.1089\n",
            "marisa-trie                      1.2.0\n",
            "Markdown                         3.6\n",
            "markdown-it-py                   3.0.0\n",
            "MarkupSafe                       2.1.5\n",
            "matplotlib                       3.7.1\n",
            "matplotlib-inline                0.1.7\n",
            "matplotlib-venn                  0.11.10\n",
            "mdit-py-plugins                  0.4.1\n",
            "mdurl                            0.1.2\n",
            "miniKanren                       1.0.3\n",
            "missingno                        0.5.2\n",
            "mistune                          0.8.4\n",
            "mizani                           0.9.3\n",
            "mkl                              2024.2.1\n",
            "ml-dtypes                        0.4.0\n",
            "mlxtend                          0.23.1\n",
            "more-itertools                   10.3.0\n",
            "moviepy                          1.0.3\n",
            "mpmath                           1.3.0\n",
            "msgpack                          1.0.8\n",
            "multidict                        6.0.5\n",
            "multipledispatch                 1.0.0\n",
            "multiprocess                     0.70.16\n",
            "multitasking                     0.0.11\n",
            "murmurhash                       1.0.10\n",
            "music21                          9.1.0\n",
            "namex                            0.0.8\n",
            "natsort                          8.4.0\n",
            "nbclassic                        1.1.0\n",
            "nbclient                         0.10.0\n",
            "nbconvert                        6.5.4\n",
            "nbformat                         5.10.4\n",
            "nest-asyncio                     1.6.0\n",
            "networkx                         3.3\n",
            "nibabel                          5.0.1\n",
            "nltk                             3.8.1\n",
            "notebook                         6.5.5\n",
            "notebook_shim                    0.2.4\n",
            "numba                            0.60.0\n",
            "numexpr                          2.10.1\n",
            "numpy                            1.26.4\n",
            "nvtx                             0.2.10\n",
            "oauth2client                     4.1.3\n",
            "oauthlib                         3.2.2\n",
            "openai                           1.2.0\n",
            "opencv-contrib-python            4.10.0.84\n",
            "opencv-python                    4.10.0.84\n",
            "opencv-python-headless           4.10.0.84\n",
            "openpyxl                         3.1.5\n",
            "opt-einsum                       3.3.0\n",
            "optax                            0.2.2\n",
            "optree                           0.12.1\n",
            "orbax-checkpoint                 0.5.23\n",
            "osqp                             0.6.7.post0\n",
            "packaging                        24.1\n",
            "pandas                           2.1.4\n",
            "pandas-datareader                0.10.0\n",
            "pandas-gbq                       0.23.1\n",
            "pandas-stubs                     2.1.4.231227\n",
            "pandocfilters                    1.5.1\n",
            "panel                            1.4.5\n",
            "param                            2.1.1\n",
            "parso                            0.8.4\n",
            "parsy                            2.1\n",
            "partd                            1.4.2\n",
            "pathlib                          1.0.1\n",
            "patsy                            0.5.6\n",
            "peewee                           3.17.6\n",
            "pexpect                          4.9.0\n",
            "pickleshare                      0.7.5\n",
            "Pillow                           9.4.0\n",
            "pip                              24.2\n",
            "pip-tools                        7.4.1\n",
            "platformdirs                     4.2.2\n",
            "plotly                           5.15.0\n",
            "plotnine                         0.12.4\n",
            "pluggy                           1.5.0\n",
            "polars                           0.20.2\n",
            "pooch                            1.8.2\n",
            "portpicker                       1.5.2\n",
            "prefetch_generator               1.0.3\n",
            "preshed                          3.0.9\n",
            "prettytable                      3.10.2\n",
            "proglog                          0.1.10\n",
            "progressbar2                     4.2.0\n",
            "prometheus_client                0.20.0\n",
            "promise                          2.3\n",
            "prompt_toolkit                   3.0.47\n",
            "prophet                          1.1.5\n",
            "proto-plus                       1.24.0\n",
            "protobuf                         3.20.3\n",
            "psutil                           5.9.5\n",
            "psycopg2                         2.9.9\n",
            "ptyprocess                       0.7.0\n",
            "py-cpuinfo                       9.0.0\n",
            "py4j                             0.10.9.7\n",
            "pyarrow                          17.0.0\n",
            "pyarrow-hotfix                   0.6\n",
            "pyasn1                           0.6.0\n",
            "pyasn1_modules                   0.4.0\n",
            "pycocotools                      2.0.8\n",
            "pycparser                        2.22\n",
            "pydantic                         2.8.2\n",
            "pydantic_core                    2.20.1\n",
            "pydata-google-auth               1.8.2\n",
            "pydot                            1.4.2\n",
            "pydot-ng                         2.0.0\n",
            "pydotplus                        2.0.2\n",
            "PyDrive                          1.3.1\n",
            "PyDrive2                         1.6.3\n",
            "pyerfa                           2.0.1.4\n",
            "pygame                           2.6.0\n",
            "Pygments                         2.16.1\n",
            "PyGObject                        3.42.1\n",
            "PyJWT                            2.9.0\n",
            "pymc                             5.10.4\n",
            "pymystem3                        0.2.0\n",
            "pynvjitlink-cu12                 0.3.0\n",
            "PyOpenGL                         3.1.7\n",
            "pyOpenSSL                        24.2.1\n",
            "pyparsing                        3.1.2\n",
            "pyperclip                        1.9.0\n",
            "pyproj                           3.6.1\n",
            "pyproject_hooks                  1.1.0\n",
            "pyshp                            2.3.1\n",
            "PySocks                          1.7.1\n",
            "pytensor                         2.18.6\n",
            "pytest                           7.4.4\n",
            "python-apt                       2.4.0\n",
            "python-box                       7.2.0\n",
            "python-dateutil                  2.8.2\n",
            "python-louvain                   0.16\n",
            "python-slugify                   8.0.4\n",
            "python-utils                     3.8.2\n",
            "pytz                             2024.1\n",
            "pyviz_comms                      3.0.3\n",
            "PyYAML                           6.0.2\n",
            "pyzmq                            24.0.1\n",
            "qdldl                            0.1.7.post4\n",
            "ratelim                          0.1.6\n",
            "referencing                      0.35.1\n",
            "regex                            2024.5.15\n",
            "requests                         2.32.3\n",
            "requests-oauthlib                1.3.1\n",
            "requirements-parser              0.9.0\n",
            "rich                             13.7.1\n",
            "rmm-cu12                         24.4.0\n",
            "rpds-py                          0.20.0\n",
            "rpy2                             3.4.2\n",
            "rsa                              4.9\n",
            "safetensors                      0.4.4\n",
            "scikit-image                     0.23.2\n",
            "scikit-learn                     1.3.2\n",
            "scipy                            1.13.1\n",
            "scooby                           0.10.0\n",
            "scs                              3.2.6\n",
            "seaborn                          0.13.1\n",
            "SecretStorage                    3.3.1\n",
            "Send2Trash                       1.8.3\n",
            "sentencepiece                    0.1.99\n",
            "session_info                     1.0.0\n",
            "setuptools                       72.2.0\n",
            "shapely                          2.0.5\n",
            "shellingham                      1.5.4\n",
            "simple_parsing                   0.1.5\n",
            "six                              1.16.0\n",
            "sklearn-pandas                   2.2.0\n",
            "smart-open                       7.0.4\n",
            "sniffio                          1.3.1\n",
            "snowballstemmer                  2.2.0\n",
            "snowflake-connector-python       3.12.0\n",
            "sortedcontainers                 2.4.0\n",
            "soundfile                        0.12.1\n",
            "soupsieve                        2.5\n",
            "soxr                             0.4.0\n",
            "spacy                            3.7.5\n",
            "spacy-legacy                     3.0.12\n",
            "spacy-loggers                    1.0.5\n",
            "Sphinx                           5.0.2\n",
            "sphinxcontrib-applehelp          2.0.0\n",
            "sphinxcontrib-devhelp            2.0.0\n",
            "sphinxcontrib-htmlhelp           2.1.0\n",
            "sphinxcontrib-jsmath             1.0.1\n",
            "sphinxcontrib-qthelp             2.0.0\n",
            "sphinxcontrib-serializinghtml    2.0.0\n",
            "SQLAlchemy                       2.0.32\n",
            "sqlglot                          20.11.0\n",
            "sqlparse                         0.5.1\n",
            "srsly                            2.4.8\n",
            "stanio                           0.5.1\n",
            "statsmodels                      0.14.2\n",
            "stdlib-list                      0.10.0\n",
            "StrEnum                          0.4.15\n",
            "sympy                            1.13.1\n",
            "tables                           3.8.0\n",
            "tabulate                         0.9.0\n",
            "tbb                              2021.13.1\n",
            "tblib                            3.0.0\n",
            "tenacity                         9.0.0\n",
            "tensorboard                      2.17.0\n",
            "tensorboard-data-server          0.7.2\n",
            "tensorflow                       2.17.0\n",
            "tensorflow-datasets              4.9.6\n",
            "tensorflow-hub                   0.16.1\n",
            "tensorflow-io-gcs-filesystem     0.37.1\n",
            "tensorflow-metadata              1.15.0\n",
            "tensorflow-probability           0.24.0\n",
            "tensorstore                      0.1.64\n",
            "termcolor                        2.4.0\n",
            "terminado                        0.18.1\n",
            "text-unidecode                   1.3\n",
            "textblob                         0.17.1\n",
            "tf_keras                         2.17.0\n",
            "tf-slim                          1.1.0\n",
            "thinc                            8.2.5\n",
            "threadpoolctl                    3.5.0\n",
            "tifffile                         2024.7.24\n",
            "tiktoken                         0.7.0\n",
            "tinycss2                         1.3.0\n",
            "tokenizers                       0.19.1\n",
            "toml                             0.10.2\n",
            "tomli                            2.0.1\n",
            "tomlkit                          0.13.0\n",
            "toolz                            0.12.1\n",
            "torch                            2.3.1+cu121\n",
            "torchaudio                       2.3.1+cu121\n",
            "torchsummary                     1.5.1\n",
            "torchtext                        0.18.0\n",
            "torchvision                      0.18.1+cu121\n",
            "tornado                          6.3.3\n",
            "tqdm                             4.66.5\n",
            "traitlets                        5.7.1\n",
            "traittypes                       0.2.1\n",
            "transformers                     4.42.4\n",
            "triton                           2.3.1\n",
            "tweepy                           4.14.0\n",
            "typeguard                        4.3.0\n",
            "typer                            0.12.3\n",
            "types-pytz                       2024.1.0.20240417\n",
            "types-setuptools                 71.1.0.20240813\n",
            "typing_extensions                4.12.2\n",
            "tzdata                           2024.1\n",
            "tzlocal                          5.2\n",
            "uc-micro-py                      1.0.3\n",
            "uritemplate                      4.1.1\n",
            "urllib3                          2.0.7\n",
            "vega-datasets                    0.9.0\n",
            "wadllib                          1.3.6\n",
            "wasabi                           1.1.3\n",
            "wcwidth                          0.2.13\n",
            "weasel                           0.4.1\n",
            "webcolors                        24.6.0\n",
            "webencodings                     0.5.1\n",
            "websocket-client                 1.8.0\n",
            "Werkzeug                         3.0.3\n",
            "wheel                            0.44.0\n",
            "widgetsnbextension               3.6.8\n",
            "wordcloud                        1.9.3\n",
            "wrapt                            1.16.0\n",
            "xarray                           2024.6.0\n",
            "xarray-einstats                  0.7.0\n",
            "xgboost                          2.1.1\n",
            "xlrd                             2.0.1\n",
            "xxhash                           3.5.0\n",
            "xyzservices                      2024.6.0\n",
            "yarl                             1.9.4\n",
            "yellowbrick                      1.5\n",
            "yfinance                         0.2.41\n",
            "zict                             3.0.0\n",
            "zipp                             3.19.2\n"
          ]
        }
      ]
    },
    {
      "cell_type": "code",
      "source": [
        "# Install necessary libraries\n",
        "!pip install pandas scikit-learn\n",
        "\n",
        "\n",
        "# Define the function to generate bias-free examples\n",
        "def generate_bias_free_examples(df, num_examples=6, random_state=42):\n",
        "    \"\"\"\n",
        "    Generate a balanced set of examples from the dataset, avoiding majority label and recency biases.\n",
        "\n",
        "    Parameters:\n",
        "    df (pd.DataFrame): The dataframe containing the reviews and sentiments.\n",
        "    num_examples (int): Total number of examples to generate (should be even).\n",
        "    random_state (int): Seed for reproducibility.\n",
        "\n",
        "    Returns:\n",
        "    list: A list of balanced and shuffled examples.\n",
        "    \"\"\"\n",
        "    # Ensure the number of examples is even\n",
        "    assert num_examples % 2 == 0, \"Number of examples should be even.\"\n",
        "\n",
        "    # Split the dataset into positive and negative examples\n",
        "    positive_examples = df[df['sentiment'] == 'Positive']\n",
        "    negative_examples = df[df['sentiment'] == 'Negative']\n",
        "\n",
        "    # Sample equal number of positive and negative examples\n",
        "    positive_samples = positive_examples.sample(n=num_examples//2, random_state=random_state)\n",
        "    negative_samples = negative_examples.sample(n=num_examples//2, random_state=random_state)\n",
        "\n",
        "    # Combine and shuffle the examples\n",
        "    balanced_examples = pd.concat([positive_samples, negative_samples])\n",
        "    balanced_examples = balanced_examples.sample(frac=1, random_state=random_state).reset_index(drop=True)\n",
        "\n",
        "    # Convert to list of dictionaries\n",
        "    examples_list = balanced_examples.to_dict(orient='records')\n",
        "\n",
        "    return examples_list\n",
        "\n",
        "# Use the function to generate examples\n",
        "# Assuming the CSV file is already uploaded and read into a DataFrame\n",
        "df = pd.read_csv('/content/courier-service_reviews.csv')\n",
        "\n",
        "# Generate bias-free examples\n",
        "examples = generate_bias_free_examples(df, num_examples=6)\n",
        "\n",
        "# Display the examples\n",
        "for example in examples:\n",
        "    print(f\"Review: {example['review']}\\nSentiment: {example['sentiment']}\\n\")\n"
      ],
      "metadata": {
        "colab": {
          "base_uri": "https://localhost:8080/"
        },
        "id": "mAeqlSb6Kn84",
        "outputId": "d81cc22d-aabf-4635-f85a-76a4149a624f"
      },
      "execution_count": 101,
      "outputs": [
        {
          "output_type": "stream",
          "name": "stdout",
          "text": [
            "Requirement already satisfied: pandas in /usr/local/lib/python3.10/dist-packages (2.1.4)\n",
            "Requirement already satisfied: scikit-learn in /usr/local/lib/python3.10/dist-packages (1.3.2)\n",
            "Requirement already satisfied: numpy<2,>=1.22.4 in /usr/local/lib/python3.10/dist-packages (from pandas) (1.26.4)\n",
            "Requirement already satisfied: python-dateutil>=2.8.2 in /usr/local/lib/python3.10/dist-packages (from pandas) (2.8.2)\n",
            "Requirement already satisfied: pytz>=2020.1 in /usr/local/lib/python3.10/dist-packages (from pandas) (2024.1)\n",
            "Requirement already satisfied: tzdata>=2022.1 in /usr/local/lib/python3.10/dist-packages (from pandas) (2024.1)\n",
            "Requirement already satisfied: scipy>=1.5.0 in /usr/local/lib/python3.10/dist-packages (from scikit-learn) (1.13.1)\n",
            "Requirement already satisfied: joblib>=1.1.1 in /usr/local/lib/python3.10/dist-packages (from scikit-learn) (1.4.2)\n",
            "Requirement already satisfied: threadpoolctl>=2.0.0 in /usr/local/lib/python3.10/dist-packages (from scikit-learn) (3.5.0)\n",
            "Requirement already satisfied: six>=1.5 in /usr/local/lib/python3.10/dist-packages (from python-dateutil>=2.8.2->pandas) (1.16.0)\n",
            "Review: When it comes to packaging materials, ExpressWay Logistics prioritizes quality and durability. I was impressed by the sturdy packaging used to protect my items during transit. Their attention to detail in selecting the right materials for each package ensured that my goods arrived in perfect condition. With ExpressWay Logistics, I can trust that my shipments will be handled with care and arrive safely at their destination.\n",
            "Sentiment: Positive\n",
            "\n",
            "Review: Planning a destination wedding is undoubtedly a daunting task, especially when it comes to coordinating transportation for guests and wedding essentials. Fortunately, ExpressWay Logistics made this aspect of our wedding planning effortless. From the beginning, they were attentive to our needs and provided valuable insights to streamline the process.\n",
            "Sentiment: Positive\n",
            "\n",
            "Review: Expressway Logistics is the worst courier service I've ever encountered. They consistently fail to meet delivery deadlines, leaving me scrambling to find alternative solutions. Their tracking system is a joke, providing inaccurate information that only adds to the frustration. If you enjoy stress and disappointment, by all means, use their services. Otherwise, steer clear.\n",
            "Sentiment: Negative\n",
            "\n",
            "Review: The tracking system used by ExpressWay Logistics is too reliable, providing accurate updates on the status of my parcels throughout the delivery process.I am impressed with their efforts to provide such excellent services inspite of many challenges!\n",
            "Sentiment: Positive\n",
            "\n",
            "Review: I am too frustrated and disappointed as the charges levied by ExpressWay Logistics is not at all reasonable.They impose high taxes and duties on the courier and end up with an ineffcient delievry service.I will never be a repeat customer.I am regretting my decision of opting it ..\n",
            "Sentiment: Negative\n",
            "\n",
            "Review: While ExpressWay Logistics' pricing is competitive, their lack of accountability for delays and damages is disappointing. It's frustrating to pay for a service that fails to deliver on its promises consistently.\n",
            "Sentiment: Negative\n",
            "\n"
          ]
        }
      ]
    },
    {
      "cell_type": "markdown",
      "source": [
        "**(D) Create Examples For Few shot prompte (2 Marks)**"
      ],
      "metadata": {
        "id": "vHhPExVTyO93"
      }
    },
    {
      "cell_type": "code",
      "execution_count": 112,
      "metadata": {
        "id": "jb1VpSgZPaht",
        "colab": {
          "base_uri": "https://localhost:8080/"
        },
        "outputId": "2ed8959c-f392-4df8-d2a8-abd976c5ee83"
      },
      "outputs": [
        {
          "output_type": "stream",
          "name": "stdout",
          "text": [
            "\n",
            "You are an AI assistant that helps users analyze sentiment in courier service reviews. Your task is to classify each review as either positive or negative based on the text provided. Here are some examples to guide you:\n",
            "\n",
            "Review: \"The courier service was prompt and the staff were very friendly.\"\n",
            "Sentiment: Positive\n",
            "\n",
            "Review: \"The package arrived late and the box was damaged.\"\n",
            "Sentiment: Negative\n",
            "\n",
            "Review: \"The delivery was quick but the package was left in the rain.\"\n",
            "Sentiment: Negative\n",
            "\n",
            "Review: \"The courier service was excellent, and the staff were very helpful.\"\n",
            "Sentiment: Positive\n",
            "\n",
            "Review: \"I had a terrible experience with the courier service. My package was lost.\"\n",
            "Sentiment: Negative\n",
            "\n",
            "Review: \"The delivery was on time and the package was in perfect condition.\"\n",
            "Sentiment: Positive\n",
            "\n",
            "Classify the following review: \"The courier service was satisfactory, but the delivery was a bit slow.\"\n",
            "\n"
          ]
        }
      ],
      "source": [
        "# Create Examples\n",
        "examples = \"\"\"\n",
        "Review: \"The courier service was prompt and the staff were very friendly.\"\n",
        "Sentiment: Positive\n",
        "\n",
        "Review: \"The package arrived late and the box was damaged.\"\n",
        "Sentiment: Negative\n",
        "\n",
        "Review: \"The delivery was quick but the package was left in the rain.\"\n",
        "Sentiment: Negative\n",
        "\n",
        "Review: \"The courier service was excellent, and the staff were very helpful.\"\n",
        "Sentiment: Positive\n",
        "\n",
        "Review: \"I had a terrible experience with the courier service. My package was lost.\"\n",
        "Sentiment: Negative\n",
        "\n",
        "Review: \"The delivery was on time and the package was in perfect condition.\"\n",
        "Sentiment: Positive\n",
        "\"\"\"\n",
        "\n",
        "# Define the new review to classify\n",
        "new_review = \"\"\"\n",
        "Classify the following review: \"The courier service was satisfactory, but the delivery was a bit slow.\"\n",
        "\"\"\"\n",
        "\n",
        "# Combine everything into the full prompt\n",
        "full_prompt = system_message + examples + new_review\n",
        "\n",
        "# Print the full prompt\n",
        "print(full_prompt)"
      ]
    },
    {
      "cell_type": "markdown",
      "metadata": {
        "id": "PEnNkOzJSwTk"
      },
      "source": [
        "With the examples in place, we can now assemble a few-shot prompt. Since we will be using the few-shot prompt several times during evaluation, let us write a function to create a few-shot prompt (the logic of this function is depicted below)."
      ]
    },
    {
      "cell_type": "code",
      "source": [
        "def create_few_shot_prompt(system_message, examples, new_review):\n",
        "    \"\"\"\n",
        "    Create a few-shot prompt by combining the system message, examples, and new review.\n",
        "\n",
        "    Parameters:\n",
        "    system_message (str): The system message guiding the AI.\n",
        "    examples (str): The examples to guide the AI.\n",
        "    new_review (str): The new review to classify.\n",
        "\n",
        "    Returns:\n",
        "    str: The full few-shot prompt.\n",
        "    \"\"\"\n",
        "    full_prompt = system_message + examples + new_review\n",
        "    return full_prompt\n"
      ],
      "metadata": {
        "id": "fbH7E70zQMDR"
      },
      "execution_count": 115,
      "outputs": []
    },
    {
      "cell_type": "code",
      "source": [
        "# Define the Few-Shot System Message\n",
        "system_message = \"\"\"\n",
        "You are an AI assistant that helps users analyze sentiment in courier service reviews. Your task is to classify each review as either positive or negative based on the text provided. Here are some examples to guide you:\n",
        "\"\"\"\n",
        "\n",
        "# Create Examples\n",
        "examples = \"\"\"\n",
        "Review: \"The courier service was prompt and the staff were very friendly.\"\n",
        "Sentiment: Positive\n",
        "\n",
        "Review: \"The package arrived late and the box was damaged.\"\n",
        "Sentiment: Negative\n",
        "\n",
        "Review: \"The delivery was quick but the package was left in the rain.\"\n",
        "Sentiment: Negative\n",
        "\n",
        "Review: \"The courier service was excellent, and the staff were very helpful.\"\n",
        "Sentiment: Positive\n",
        "\n",
        "Review: \"I had a terrible experience with the courier service. My package was lost.\"\n",
        "Sentiment: Negative\n",
        "\n",
        "Review: \"The delivery was on time and the package was in perfect condition.\"\n",
        "Sentiment: Positive\n",
        "\"\"\"\n",
        "\n",
        "# Define the new review to classify\n",
        "new_review = \"\"\"\n",
        "Classify the following review: \"The courier service was satisfactory, but the delivery was a bit slow.\"\n",
        "\"\"\"\n"
      ],
      "metadata": {
        "id": "bzxAMg-IQRa0"
      },
      "execution_count": 116,
      "outputs": []
    },
    {
      "cell_type": "markdown",
      "source": [
        "**(E) Create Few Shot Prompt (2 Marks)**"
      ],
      "metadata": {
        "id": "5YN0Zt1dyZ3X"
      }
    },
    {
      "cell_type": "code",
      "source": [
        "# Create the few-shot prompt\n",
        "full_prompt = create_few_shot_prompt(system_message, examples, new_review)\n",
        "\n",
        "# Print the full prompt\n",
        "print(full_prompt)\n"
      ],
      "metadata": {
        "colab": {
          "base_uri": "https://localhost:8080/"
        },
        "id": "Qs2n1qr-QfO0",
        "outputId": "9f63e5c6-38c3-4c1c-862a-8ff515d86337"
      },
      "execution_count": 117,
      "outputs": [
        {
          "output_type": "stream",
          "name": "stdout",
          "text": [
            "\n",
            "You are an AI assistant that helps users analyze sentiment in courier service reviews. Your task is to classify each review as either positive or negative based on the text provided. Here are some examples to guide you:\n",
            "\n",
            "Review: \"The courier service was prompt and the staff were very friendly.\"\n",
            "Sentiment: Positive\n",
            "\n",
            "Review: \"The package arrived late and the box was damaged.\"\n",
            "Sentiment: Negative\n",
            "\n",
            "Review: \"The delivery was quick but the package was left in the rain.\"\n",
            "Sentiment: Negative\n",
            "\n",
            "Review: \"The courier service was excellent, and the staff were very helpful.\"\n",
            "Sentiment: Positive\n",
            "\n",
            "Review: \"I had a terrible experience with the courier service. My package was lost.\"\n",
            "Sentiment: Negative\n",
            "\n",
            "Review: \"The delivery was on time and the package was in perfect condition.\"\n",
            "Sentiment: Positive\n",
            "\n",
            "Classify the following review: \"The courier service was satisfactory, but the delivery was a bit slow.\"\n",
            "\n"
          ]
        }
      ]
    },
    {
      "cell_type": "code",
      "source": [
        "def num_tokens_from_string(string: str, encoding_name: str) -> int:\n",
        "    \"\"\"Returns the number of tokens in a text string.\"\"\"\n",
        "    encoding = tiktoken.get_encoding(encoding_name)\n",
        "    tokens = encoding.encode(string)\n",
        "    return len(tokens)\n"
      ],
      "metadata": {
        "id": "nCu75Uh5REyS"
      },
      "execution_count": 124,
      "outputs": []
    },
    {
      "cell_type": "code",
      "source": [
        "# Create the few-shot prompt\n",
        "few_shot_prompt = create_few_shot_prompt(system_message, examples, new_review) # Assign the output to few_shot_prompt\n",
        "\n",
        "# Print the full prompt\n",
        "print(few_shot_prompt)\n",
        "\n",
        "# Count the number of tokens in the few-shot prompt\n",
        "num_tokens = num_tokens_from_string(few_shot_prompt, \"cl100k_base\")\n",
        "\n",
        "# Display the number of tokens\n",
        "print(f\"Number of tokens in the few-shot prompt: {num_tokens}\")\n"
      ],
      "metadata": {
        "colab": {
          "base_uri": "https://localhost:8080/"
        },
        "id": "odQJyEL4QsjY",
        "outputId": "ab1b361f-8f19-407e-8747-0178882d106d"
      },
      "execution_count": 126,
      "outputs": [
        {
          "output_type": "stream",
          "name": "stdout",
          "text": [
            "\n",
            "You are an AI assistant that helps users analyze sentiment in courier service reviews. Your task is to classify each review as either positive or negative based on the text provided. Here are some examples to guide you:\n",
            "\n",
            "Review: \"The courier service was prompt and the staff were very friendly.\"\n",
            "Sentiment: Positive\n",
            "\n",
            "Review: \"The package arrived late and the box was damaged.\"\n",
            "Sentiment: Negative\n",
            "\n",
            "Review: \"The delivery was quick but the package was left in the rain.\"\n",
            "Sentiment: Negative\n",
            "\n",
            "Review: \"The courier service was excellent, and the staff were very helpful.\"\n",
            "Sentiment: Positive\n",
            "\n",
            "Review: \"I had a terrible experience with the courier service. My package was lost.\"\n",
            "Sentiment: Negative\n",
            "\n",
            "Review: \"The delivery was on time and the package was in perfect condition.\"\n",
            "Sentiment: Positive\n",
            "\n",
            "Classify the following review: \"The courier service was satisfactory, but the delivery was a bit slow.\"\n",
            "\n",
            "Number of tokens in the few-shot prompt: 187\n"
          ]
        }
      ]
    },
    {
      "cell_type": "markdown",
      "metadata": {
        "id": "mcI8oyIcPfPW"
      },
      "source": [
        "##**Step 4: Evaluate prompts (8 Marks)**\n",
        "\n",
        "(A) Evaluate Zero Shot Prompt (2 Marks)\n",
        "\n",
        "(B) Evaluate Few Shot Prompt (2 marks)\n",
        "\n",
        "(C) Calculate Mean and Standard Deviation for Zero Shot Prompt and Few Shot Prompt (4 Marks)"
      ]
    },
    {
      "cell_type": "markdown",
      "metadata": {
        "id": "2BWfjbiFUCSp"
      },
      "source": [
        "Now we have two sets of prompts that we need to evaluate using gold labels. Since the few-shot prompt depends on the sample of examples that was drawn to make up the prompt, we expect some variability in evaluation. Hence, we evaluate each prompt multiple times to get a sense of the average and the variation around the average.\n",
        "\n",
        "To reiterate, a choice on the prompt should account for variability due to the choice of the random sample. To aid repeated evaluation, we assemble an evaluation function ."
      ]
    },
    {
      "cell_type": "code",
      "source": [
        "from sklearn.metrics import accuracy_score"
      ],
      "metadata": {
        "id": "U7lUy0VyR3Mt"
      },
      "execution_count": 129,
      "outputs": []
    },
    {
      "cell_type": "code",
      "execution_count": 151,
      "metadata": {
        "id": "yWpWWcLAzgGY",
        "colab": {
          "base_uri": "https://localhost:8080/"
        },
        "outputId": "e82e1409-82c1-4ffd-dd17-4aecfef110d8"
      },
      "outputs": [
        {
          "output_type": "stream",
          "name": "stdout",
          "text": [
            "Requirement already satisfied: openai in /usr/local/lib/python3.10/dist-packages (1.2.0)\n",
            "Requirement already satisfied: scikit-learn in /usr/local/lib/python3.10/dist-packages (1.3.2)\n",
            "Requirement already satisfied: tabulate in /usr/local/lib/python3.10/dist-packages (0.9.0)\n",
            "Requirement already satisfied: anyio<4,>=3.5.0 in /usr/local/lib/python3.10/dist-packages (from openai) (3.7.1)\n",
            "Requirement already satisfied: distro<2,>=1.7.0 in /usr/lib/python3/dist-packages (from openai) (1.7.0)\n",
            "Requirement already satisfied: httpx<1,>=0.23.0 in /usr/local/lib/python3.10/dist-packages (from openai) (0.27.0)\n",
            "Requirement already satisfied: pydantic<3,>=1.9.0 in /usr/local/lib/python3.10/dist-packages (from openai) (2.8.2)\n",
            "Requirement already satisfied: tqdm>4 in /usr/local/lib/python3.10/dist-packages (from openai) (4.66.5)\n",
            "Requirement already satisfied: typing-extensions<5,>=4.5 in /usr/local/lib/python3.10/dist-packages (from openai) (4.12.2)\n",
            "Requirement already satisfied: numpy<2.0,>=1.17.3 in /usr/local/lib/python3.10/dist-packages (from scikit-learn) (1.26.4)\n",
            "Requirement already satisfied: scipy>=1.5.0 in /usr/local/lib/python3.10/dist-packages (from scikit-learn) (1.13.1)\n",
            "Requirement already satisfied: joblib>=1.1.1 in /usr/local/lib/python3.10/dist-packages (from scikit-learn) (1.4.2)\n",
            "Requirement already satisfied: threadpoolctl>=2.0.0 in /usr/local/lib/python3.10/dist-packages (from scikit-learn) (3.5.0)\n",
            "Requirement already satisfied: idna>=2.8 in /usr/local/lib/python3.10/dist-packages (from anyio<4,>=3.5.0->openai) (3.7)\n",
            "Requirement already satisfied: sniffio>=1.1 in /usr/local/lib/python3.10/dist-packages (from anyio<4,>=3.5.0->openai) (1.3.1)\n",
            "Requirement already satisfied: exceptiongroup in /usr/local/lib/python3.10/dist-packages (from anyio<4,>=3.5.0->openai) (1.2.2)\n",
            "Requirement already satisfied: certifi in /usr/local/lib/python3.10/dist-packages (from httpx<1,>=0.23.0->openai) (2024.7.4)\n",
            "Requirement already satisfied: httpcore==1.* in /usr/local/lib/python3.10/dist-packages (from httpx<1,>=0.23.0->openai) (1.0.5)\n",
            "Requirement already satisfied: h11<0.15,>=0.13 in /usr/local/lib/python3.10/dist-packages (from httpcore==1.*->httpx<1,>=0.23.0->openai) (0.14.0)\n",
            "Requirement already satisfied: annotated-types>=0.4.0 in /usr/local/lib/python3.10/dist-packages (from pydantic<3,>=1.9.0->openai) (0.7.0)\n",
            "Requirement already satisfied: pydantic-core==2.20.1 in /usr/local/lib/python3.10/dist-packages (from pydantic<3,>=1.9.0->openai) (2.20.1)\n",
            "Mean Micro-F1 Score: 0.0\n",
            "Standard Deviation of Micro-F1 Score: 0.0\n"
          ]
        }
      ],
      "source": [
        "# Install necessary libraries\n",
        "!pip install openai scikit-learn tabulate\n",
        "\n",
        "# Import necessary libraries\n",
        "from sklearn.metrics import f1_score\n",
        "from tabulate import tabulate\n",
        "\n",
        "def evaluate_prompt(prompt, gold_examples, user_message_template, num_evaluations=10):\n",
        "    \"\"\"\n",
        "    Return the micro-F1 score for predictions on gold examples.\n",
        "    For each example, we make a prediction using the prompt. Gold labels and\n",
        "    model predictions are aggregated into lists and compared to compute the\n",
        "    F1 score.\n",
        "\n",
        "    Parameters:\n",
        "    prompt (list): List of messages in the OpenAI prompt format.\n",
        "    gold_examples (str): JSON string with list of gold examples.\n",
        "    user_message_template (str): String with a placeholder for courier service review.\n",
        "    num_evaluations (int): Number of times to evaluate the prompt.\n",
        "\n",
        "    Returns:\n",
        "    tuple: Mean and standard deviation of the micro-F1 score.\n",
        "    \"\"\"\n",
        "    model_predictions, ground_truths, review_texts = [], [], []\n",
        "\n",
        "    for example in json.loads(gold_examples):\n",
        "        gold_input = example['review']\n",
        "        user_input = [\n",
        "            {\n",
        "                'role': 'user',\n",
        "                'content': user_message_template.format(courier_service_review=gold_input)\n",
        "            }\n",
        "        ]\n",
        "\n",
        "        try:\n",
        "            response = openai.ChatCompletion.create(\n",
        "                model=\"gpt-3.5-turbo\",\n",
        "                messages=prompt + user_input,\n",
        "                temperature=0,  # Note the low temperature (For a deterministic response)\n",
        "                max_tokens=2  # Note how we restrict the output to not more than 2 tokens\n",
        "            )\n",
        "\n",
        "            prediction = response.choices[0].message.content.strip()\n",
        "            model_predictions.append(prediction)  # Removes extraneous white spaces\n",
        "            ground_truths.append(example['sentiment'])\n",
        "            review_texts.append(gold_input)\n",
        "\n",
        "        except Exception as e:\n",
        "            continue\n",
        "\n",
        "    micro_f1_scores = []\n",
        "\n",
        "    for _ in range(num_evaluations):\n",
        "        micro_f1_score = f1_score(ground_truths, model_predictions, average=\"micro\")\n",
        "        micro_f1_scores.append(micro_f1_score)\n",
        "\n",
        "    mean_micro_f1 = np.mean(micro_f1_scores)\n",
        "    std_micro_f1 = np.std(micro_f1_scores)\n",
        "\n",
        "    table_data = [[text, pred, truth] for text, pred, truth in zip(review_texts, model_predictions, ground_truths)]\n",
        "    headers = [\"Review\", \"Model Prediction\", \"Ground Truth\"]\n",
        "    print(tabulate(table_data, headers=headers, tablefmt=\"grid\"))\n",
        "\n",
        "    return mean_micro_f1, std_micro_f1\n",
        "\n",
        "# Example usage\n",
        "# Define the prompt, gold examples, and user message template\n",
        "prompt = [\n",
        "    {\"role\": \"system\", \"content\": \"You are an AI assistant that helps users analyze sentiment in courier service reviews.\"}\n",
        "]\n",
        "\n",
        "gold_examples = json.dumps([\n",
        "    {\"review\": \"The courier service was prompt and the staff were very friendly.\", \"sentiment\": \"Positive\"},\n",
        "    {\"review\": \"The package arrived late and the box was damaged.\", \"sentiment\": \"Negative\"},\n",
        "    {\"review\": \"The delivery was quick but the package was left in the rain.\", \"sentiment\": \"Negative\"},\n",
        "    {\"review\": \"The courier service was excellent, and the staff were very helpful.\", \"sentiment\": \"Positive\"},\n",
        "    {\"review\": \"I had a terrible experience with the courier service. My package was lost.\", \"sentiment\": \"Negative\"},\n",
        "    {\"review\": \"The delivery was on time and the package was in perfect condition.\", \"sentiment\": \"Positive\"}\n",
        "])\n",
        "\n",
        "user_message_template = \"Classify the following review: '{courier_service_review}'\"\n",
        "\n",
        "\n",
        "print(f\"Mean Micro-F1 Score: {mean_micro_f1}\")\n",
        "print(f\"Standard Deviation of Micro-F1 Score: {std_micro_f1}\")\n"
      ]
    },
    {
      "cell_type": "markdown",
      "metadata": {
        "id": "s61rE4tMVHqt"
      },
      "source": [
        "Let us now use this function to do one evaluation of all the two prompts assembled so far, each time computing the Micro-F1 score."
      ]
    },
    {
      "cell_type": "markdown",
      "metadata": {
        "id": "XpmEiVPIZUBl",
        "nteract": {
          "transient": {
            "deleting": false
          }
        }
      },
      "source": [
        "**(A) Evaluate zero shot prompt (2 Marks)**"
      ]
    },
    {
      "cell_type": "code",
      "source": [
        "def evaluate_prompt(prompt, gold_examples, user_message_template, num_evaluations=10):\n",
        "    \"\"\"\n",
        "    Return the micro-F1 score for predictions on gold examples.\n",
        "    For each example, we make a prediction using the prompt. Gold labels and\n",
        "    model predictions are aggregated into lists and compared to compute the\n",
        "    F1 score.\n",
        "\n",
        "    Parameters:\n",
        "    prompt (list): List of messages in the OpenAI prompt format.\n",
        "    gold_examples (str): JSON string with list of gold examples.\n",
        "    user_message_template (str): String with a placeholder for courier service review.\n",
        "    num_evaluations (int): Number of times to evaluate the prompt.\n",
        "\n",
        "    Returns:\n",
        "    tuple: Mean and standard deviation of the micro-F1 score.\n",
        "    \"\"\"\n",
        "    model_predictions, ground_truths, review_texts = [], [], []\n",
        "\n",
        "    for example in json.loads(gold_examples):\n",
        "        gold_input = example['review']\n",
        "        user_input = [\n",
        "            {\n",
        "                'role': 'user',\n",
        "                'content': user_message_template.format(courier_service_review=gold_input)\n",
        "            }\n",
        "        ]\n",
        "\n",
        "        try:\n",
        "            response = openai.ChatCompletion.create(\n",
        "                model=\"gpt-3.5-turbo\",\n",
        "                messages=prompt + user_input,\n",
        "                temperature=0,  # Note the low temperature (For a deterministic response)\n",
        "                max_tokens=2  # Note how we restrict the output to not more than 2 tokens\n",
        "            )\n",
        "\n",
        "            prediction = response.choices[0].message.content.strip()\n",
        "            model_predictions.append(prediction)  # Removes extraneous white spaces\n",
        "            ground_truths.append(example['sentiment'])\n",
        "            review_texts.append(gold_input)\n",
        "\n",
        "        except Exception as e:\n",
        "            continue\n",
        "\n",
        "    micro_f1_scores = []\n",
        "\n",
        "    for _ in range(num_evaluations):\n",
        "        micro_f1_score = f1_score(ground_truths, model_predictions, average=\"micro\")\n",
        "        micro_f1_scores.append(micro_f1_score)\n",
        "\n",
        "    mean_micro_f1 = np.mean(micro_f1_scores)\n",
        "    std_micro_f1 = np.std(micro_f1_scores)\n",
        "\n",
        "    table_data = [[text, pred, truth] for text, pred, truth in zip(review_texts, model_predictions, ground_truths)]\n",
        "    headers = [\"Review\", \"Model Prediction\", \"Ground Truth\"]\n",
        "    print(tabulate(table_data, headers=headers, tablefmt=\"grid\"))\n",
        "\n",
        "    return mean_micro_f1, std_micro_f1"
      ],
      "metadata": {
        "id": "RqjTkmWHU5Jk"
      },
      "execution_count": 133,
      "outputs": []
    },
    {
      "cell_type": "code",
      "execution_count": 132,
      "metadata": {
        "id": "Kar164F4nd9x",
        "colab": {
          "base_uri": "https://localhost:8080/"
        },
        "outputId": "8530422c-4dd8-4e1a-a627-296bbfbfa670"
      },
      "outputs": [
        {
          "output_type": "stream",
          "name": "stdout",
          "text": [
            "+----------+--------------------+----------------+\n",
            "| Review   | Model Prediction   | Ground Truth   |\n",
            "+==========+====================+================+\n",
            "+----------+--------------------+----------------+\n"
          ]
        },
        {
          "output_type": "stream",
          "name": "stderr",
          "text": [
            "/usr/local/lib/python3.10/dist-packages/sklearn/metrics/_classification.py:1760: UndefinedMetricWarning: F-score is ill-defined and being set to 0.0 due to no true nor predicted samples. Use `zero_division` parameter to control this behavior.\n",
            "  _warn_prf(average, \"true nor predicted\", \"F-score is\", len(true_sum))\n",
            "/usr/local/lib/python3.10/dist-packages/sklearn/metrics/_classification.py:1760: UndefinedMetricWarning: F-score is ill-defined and being set to 0.0 due to no true nor predicted samples. Use `zero_division` parameter to control this behavior.\n",
            "  _warn_prf(average, \"true nor predicted\", \"F-score is\", len(true_sum))\n",
            "/usr/local/lib/python3.10/dist-packages/sklearn/metrics/_classification.py:1760: UndefinedMetricWarning: F-score is ill-defined and being set to 0.0 due to no true nor predicted samples. Use `zero_division` parameter to control this behavior.\n",
            "  _warn_prf(average, \"true nor predicted\", \"F-score is\", len(true_sum))\n",
            "/usr/local/lib/python3.10/dist-packages/sklearn/metrics/_classification.py:1760: UndefinedMetricWarning: F-score is ill-defined and being set to 0.0 due to no true nor predicted samples. Use `zero_division` parameter to control this behavior.\n",
            "  _warn_prf(average, \"true nor predicted\", \"F-score is\", len(true_sum))\n",
            "/usr/local/lib/python3.10/dist-packages/sklearn/metrics/_classification.py:1760: UndefinedMetricWarning: F-score is ill-defined and being set to 0.0 due to no true nor predicted samples. Use `zero_division` parameter to control this behavior.\n",
            "  _warn_prf(average, \"true nor predicted\", \"F-score is\", len(true_sum))\n",
            "/usr/local/lib/python3.10/dist-packages/sklearn/metrics/_classification.py:1760: UndefinedMetricWarning: F-score is ill-defined and being set to 0.0 due to no true nor predicted samples. Use `zero_division` parameter to control this behavior.\n",
            "  _warn_prf(average, \"true nor predicted\", \"F-score is\", len(true_sum))\n",
            "/usr/local/lib/python3.10/dist-packages/sklearn/metrics/_classification.py:1760: UndefinedMetricWarning: F-score is ill-defined and being set to 0.0 due to no true nor predicted samples. Use `zero_division` parameter to control this behavior.\n",
            "  _warn_prf(average, \"true nor predicted\", \"F-score is\", len(true_sum))\n",
            "/usr/local/lib/python3.10/dist-packages/sklearn/metrics/_classification.py:1760: UndefinedMetricWarning: F-score is ill-defined and being set to 0.0 due to no true nor predicted samples. Use `zero_division` parameter to control this behavior.\n",
            "  _warn_prf(average, \"true nor predicted\", \"F-score is\", len(true_sum))\n",
            "/usr/local/lib/python3.10/dist-packages/sklearn/metrics/_classification.py:1760: UndefinedMetricWarning: F-score is ill-defined and being set to 0.0 due to no true nor predicted samples. Use `zero_division` parameter to control this behavior.\n",
            "  _warn_prf(average, \"true nor predicted\", \"F-score is\", len(true_sum))\n",
            "/usr/local/lib/python3.10/dist-packages/sklearn/metrics/_classification.py:1760: UndefinedMetricWarning: F-score is ill-defined and being set to 0.0 due to no true nor predicted samples. Use `zero_division` parameter to control this behavior.\n",
            "  _warn_prf(average, \"true nor predicted\", \"F-score is\", len(true_sum))\n"
          ]
        }
      ],
      "source": [
        "# Evaluate the prompt\n",
        "mean_micro_f1, std_micro_f1 = evaluate_prompt(prompt, gold_examples, user_message_template)\n"
      ]
    },
    {
      "cell_type": "markdown",
      "metadata": {
        "id": "ya73XdatZUBl",
        "nteract": {
          "transient": {
            "deleting": false
          }
        }
      },
      "source": [
        "**(B) Evaluate few shot prompt (2 Marks)**"
      ]
    },
    {
      "cell_type": "code",
      "source": [
        "# Evaluate the Few Shot Prompt\n",
        "mean_micro_f1, std_micro_f1 = evaluate_prompt(few_shot_prompt, gold_examples, user_message_template)\n",
        "\n",
        "print(f\"Mean Micro-F1 Score: {mean_micro_f1}\")\n",
        "print(f\"Standard Deviation of Micro-F1 Score: {std_micro_f1}\")\n"
      ],
      "metadata": {
        "colab": {
          "base_uri": "https://localhost:8080/"
        },
        "id": "1Yn-29XfVKQx",
        "outputId": "4808326c-77a8-486a-f59b-8e934ecf6c4a"
      },
      "execution_count": 135,
      "outputs": [
        {
          "output_type": "stream",
          "name": "stdout",
          "text": [
            "+----------+--------------------+----------------+\n",
            "| Review   | Model Prediction   | Ground Truth   |\n",
            "+==========+====================+================+\n",
            "+----------+--------------------+----------------+\n",
            "Mean Micro-F1 Score: 0.0\n",
            "Standard Deviation of Micro-F1 Score: 0.0\n"
          ]
        },
        {
          "output_type": "stream",
          "name": "stderr",
          "text": [
            "/usr/local/lib/python3.10/dist-packages/sklearn/metrics/_classification.py:1760: UndefinedMetricWarning: F-score is ill-defined and being set to 0.0 due to no true nor predicted samples. Use `zero_division` parameter to control this behavior.\n",
            "  _warn_prf(average, \"true nor predicted\", \"F-score is\", len(true_sum))\n",
            "/usr/local/lib/python3.10/dist-packages/sklearn/metrics/_classification.py:1760: UndefinedMetricWarning: F-score is ill-defined and being set to 0.0 due to no true nor predicted samples. Use `zero_division` parameter to control this behavior.\n",
            "  _warn_prf(average, \"true nor predicted\", \"F-score is\", len(true_sum))\n",
            "/usr/local/lib/python3.10/dist-packages/sklearn/metrics/_classification.py:1760: UndefinedMetricWarning: F-score is ill-defined and being set to 0.0 due to no true nor predicted samples. Use `zero_division` parameter to control this behavior.\n",
            "  _warn_prf(average, \"true nor predicted\", \"F-score is\", len(true_sum))\n",
            "/usr/local/lib/python3.10/dist-packages/sklearn/metrics/_classification.py:1760: UndefinedMetricWarning: F-score is ill-defined and being set to 0.0 due to no true nor predicted samples. Use `zero_division` parameter to control this behavior.\n",
            "  _warn_prf(average, \"true nor predicted\", \"F-score is\", len(true_sum))\n",
            "/usr/local/lib/python3.10/dist-packages/sklearn/metrics/_classification.py:1760: UndefinedMetricWarning: F-score is ill-defined and being set to 0.0 due to no true nor predicted samples. Use `zero_division` parameter to control this behavior.\n",
            "  _warn_prf(average, \"true nor predicted\", \"F-score is\", len(true_sum))\n",
            "/usr/local/lib/python3.10/dist-packages/sklearn/metrics/_classification.py:1760: UndefinedMetricWarning: F-score is ill-defined and being set to 0.0 due to no true nor predicted samples. Use `zero_division` parameter to control this behavior.\n",
            "  _warn_prf(average, \"true nor predicted\", \"F-score is\", len(true_sum))\n",
            "/usr/local/lib/python3.10/dist-packages/sklearn/metrics/_classification.py:1760: UndefinedMetricWarning: F-score is ill-defined and being set to 0.0 due to no true nor predicted samples. Use `zero_division` parameter to control this behavior.\n",
            "  _warn_prf(average, \"true nor predicted\", \"F-score is\", len(true_sum))\n",
            "/usr/local/lib/python3.10/dist-packages/sklearn/metrics/_classification.py:1760: UndefinedMetricWarning: F-score is ill-defined and being set to 0.0 due to no true nor predicted samples. Use `zero_division` parameter to control this behavior.\n",
            "  _warn_prf(average, \"true nor predicted\", \"F-score is\", len(true_sum))\n",
            "/usr/local/lib/python3.10/dist-packages/sklearn/metrics/_classification.py:1760: UndefinedMetricWarning: F-score is ill-defined and being set to 0.0 due to no true nor predicted samples. Use `zero_division` parameter to control this behavior.\n",
            "  _warn_prf(average, \"true nor predicted\", \"F-score is\", len(true_sum))\n",
            "/usr/local/lib/python3.10/dist-packages/sklearn/metrics/_classification.py:1760: UndefinedMetricWarning: F-score is ill-defined and being set to 0.0 due to no true nor predicted samples. Use `zero_division` parameter to control this behavior.\n",
            "  _warn_prf(average, \"true nor predicted\", \"F-score is\", len(true_sum))\n"
          ]
        }
      ]
    },
    {
      "cell_type": "code",
      "source": [
        "# Define the Few Shot System Message\n",
        "system_message = [\n",
        "    {\"role\": \"system\", \"content\": \"You are an AI assistant that helps users analyze sentiment in courier service reviews. Your task is to classify each review as either positive or negative based on the text provided. Here are some examples to guide you:\"}\n",
        "]\n",
        "\n",
        "# Create Examples\n",
        "examples = [\n",
        "    {\"role\": \"user\", \"content\": \"Review: 'The courier service was prompt and the staff were very friendly.'\\nSentiment: Positive\"},\n",
        "    {\"role\": \"user\", \"content\": \"Review: 'The package arrived late and the box was damaged.'\\nSentiment: Negative\"},\n",
        "    {\"role\": \"user\", \"content\": \"Review: 'The delivery was quick but the package was left in the rain.'\\nSentiment: Negative\"},\n",
        "    {\"role\": \"user\", \"content\": \"Review: 'The courier service was excellent, and the staff were very helpful.'\\nSentiment: Positive\"},\n",
        "    {\"role\": \"user\", \"content\": \"Review: 'I had a terrible experience with the courier service. My package was lost.'\\nSentiment: Negative\"},\n",
        "    {\"role\": \"user\", \"content\": \"Review: 'The delivery was on time and the package was in perfect condition.'\\nSentiment: Positive\"}\n",
        "]\n",
        "\n",
        "# Define the new review to classify\n",
        "new_review = [\n",
        "    {\"role\": \"user\", \"content\": \"Classify the following review: 'The courier service was satisfactory, but the delivery was a bit slow.'\"}\n",
        "]\n",
        "\n",
        "# Combine everything into the full few-shot prompt\n",
        "few_shot_prompt = system_message + examples + new_review\n",
        "\n",
        "gold_examples = json.dumps([\n",
        "    {\"review\": \"The courier service was prompt and the staff were very friendly.\", \"sentiment\": \"Positive\"},\n",
        "    {\"review\": \"The package arrived late and the box was damaged.\", \"sentiment\": \"Negative\"},\n",
        "    {\"review\": \"The delivery was quick but the package was left in the rain.\", \"sentiment\": \"Negative\"},\n",
        "    {\"review\": \"The courier service was excellent, and the staff were very helpful.\", \"sentiment\": \"Positive\"},\n",
        "    {\"review\": \"I had a terrible experience with the courier service. My package was lost.\", \"sentiment\": \"Negative\"},\n",
        "    {\"review\": \"The delivery was on time and the package was in perfect condition.\", \"sentiment\": \"Positive\"}\n",
        "])\n",
        "\n",
        "user_message_template = \"Classify the following review: '{courier_service_review}'\""
      ],
      "metadata": {
        "id": "iZjFgbMqVDq2"
      },
      "execution_count": 136,
      "outputs": []
    },
    {
      "cell_type": "markdown",
      "metadata": {
        "id": "IUYn7f-LVzs-"
      },
      "source": [
        "However, this is just *one* choice of examples. We will need to run these evaluations with multiple choices of examples to get a sense of variability in F1 score for the few-shot prompt. As an example, let us run evaluations for the few-shot prompt 5 times."
      ]
    },
    {
      "cell_type": "code",
      "execution_count": 137,
      "metadata": {
        "id": "GTXUDXYy7dku"
      },
      "outputs": [],
      "source": [
        "num_eval_runs = 5"
      ]
    },
    {
      "cell_type": "code",
      "source": [
        "few_shot_results = []\n",
        "\n",
        "for _ in range(5):\n",
        "    # Generate random examples\n",
        "    random_examples = generate_random_examples()\n",
        "    few_shot_prompt = system_message + random_examples + new_review\n",
        "\n",
        "    # Evaluate the Few Shot Prompt\n",
        "    mean_micro_f1, std_micro_f1 = evaluate_prompt(few_shot_prompt, gold_examples, user_message_template)\n",
        "    few_shot_results.append((mean_micro_f1, std_micro_f1))\n",
        "\n",
        "# Display the results\n",
        "for i, (mean_micro_f1, std_micro_f1) in enumerate(few_shot_results, 1):\n",
        "    print(f\"Evaluation {i} - Mean Micro-F1 Score: {mean_micro_f1}, Standard Deviation: {std_micro_f1}\")\n",
        "\n",
        "def generate_random_examples():\n",
        "    \"\"\"Generates a random set of examples for the few-shot prompt.\"\"\"\n",
        "    random_examples = random.sample(examples, k=5)\n",
        "    zero_shot_performance = []\n",
        " # Select 5 random examples\n",
        "    return random_examples\n",
        "\n",
        "few_shot_results = []\n",
        "\n",
        "for _ in range(5):\n",
        "    # Generate random examples\n",
        "    random_examples = generate_random_examples()\n",
        "    few_shot_prompt = system_message + random_examples + new_review\n"
      ],
      "metadata": {
        "colab": {
          "base_uri": "https://localhost:8080/"
        },
        "id": "dtWRa8LdV7Ok",
        "outputId": "d30ef4f2-6621-41ce-e1b9-99d6bd32c392"
      },
      "execution_count": 148,
      "outputs": [
        {
          "output_type": "stream",
          "name": "stderr",
          "text": [
            "/usr/local/lib/python3.10/dist-packages/sklearn/metrics/_classification.py:1760: UndefinedMetricWarning: F-score is ill-defined and being set to 0.0 due to no true nor predicted samples. Use `zero_division` parameter to control this behavior.\n",
            "  _warn_prf(average, \"true nor predicted\", \"F-score is\", len(true_sum))\n",
            "/usr/local/lib/python3.10/dist-packages/sklearn/metrics/_classification.py:1760: UndefinedMetricWarning: F-score is ill-defined and being set to 0.0 due to no true nor predicted samples. Use `zero_division` parameter to control this behavior.\n",
            "  _warn_prf(average, \"true nor predicted\", \"F-score is\", len(true_sum))\n",
            "/usr/local/lib/python3.10/dist-packages/sklearn/metrics/_classification.py:1760: UndefinedMetricWarning: F-score is ill-defined and being set to 0.0 due to no true nor predicted samples. Use `zero_division` parameter to control this behavior.\n",
            "  _warn_prf(average, \"true nor predicted\", \"F-score is\", len(true_sum))\n",
            "/usr/local/lib/python3.10/dist-packages/sklearn/metrics/_classification.py:1760: UndefinedMetricWarning: F-score is ill-defined and being set to 0.0 due to no true nor predicted samples. Use `zero_division` parameter to control this behavior.\n",
            "  _warn_prf(average, \"true nor predicted\", \"F-score is\", len(true_sum))\n",
            "/usr/local/lib/python3.10/dist-packages/sklearn/metrics/_classification.py:1760: UndefinedMetricWarning: F-score is ill-defined and being set to 0.0 due to no true nor predicted samples. Use `zero_division` parameter to control this behavior.\n",
            "  _warn_prf(average, \"true nor predicted\", \"F-score is\", len(true_sum))\n",
            "/usr/local/lib/python3.10/dist-packages/sklearn/metrics/_classification.py:1760: UndefinedMetricWarning: F-score is ill-defined and being set to 0.0 due to no true nor predicted samples. Use `zero_division` parameter to control this behavior.\n",
            "  _warn_prf(average, \"true nor predicted\", \"F-score is\", len(true_sum))\n",
            "/usr/local/lib/python3.10/dist-packages/sklearn/metrics/_classification.py:1760: UndefinedMetricWarning: F-score is ill-defined and being set to 0.0 due to no true nor predicted samples. Use `zero_division` parameter to control this behavior.\n",
            "  _warn_prf(average, \"true nor predicted\", \"F-score is\", len(true_sum))\n",
            "/usr/local/lib/python3.10/dist-packages/sklearn/metrics/_classification.py:1760: UndefinedMetricWarning: F-score is ill-defined and being set to 0.0 due to no true nor predicted samples. Use `zero_division` parameter to control this behavior.\n",
            "  _warn_prf(average, \"true nor predicted\", \"F-score is\", len(true_sum))\n",
            "/usr/local/lib/python3.10/dist-packages/sklearn/metrics/_classification.py:1760: UndefinedMetricWarning: F-score is ill-defined and being set to 0.0 due to no true nor predicted samples. Use `zero_division` parameter to control this behavior.\n",
            "  _warn_prf(average, \"true nor predicted\", \"F-score is\", len(true_sum))\n",
            "/usr/local/lib/python3.10/dist-packages/sklearn/metrics/_classification.py:1760: UndefinedMetricWarning: F-score is ill-defined and being set to 0.0 due to no true nor predicted samples. Use `zero_division` parameter to control this behavior.\n",
            "  _warn_prf(average, \"true nor predicted\", \"F-score is\", len(true_sum))\n",
            "/usr/local/lib/python3.10/dist-packages/sklearn/metrics/_classification.py:1760: UndefinedMetricWarning: F-score is ill-defined and being set to 0.0 due to no true nor predicted samples. Use `zero_division` parameter to control this behavior.\n",
            "  _warn_prf(average, \"true nor predicted\", \"F-score is\", len(true_sum))\n",
            "/usr/local/lib/python3.10/dist-packages/sklearn/metrics/_classification.py:1760: UndefinedMetricWarning: F-score is ill-defined and being set to 0.0 due to no true nor predicted samples. Use `zero_division` parameter to control this behavior.\n",
            "  _warn_prf(average, \"true nor predicted\", \"F-score is\", len(true_sum))\n",
            "/usr/local/lib/python3.10/dist-packages/sklearn/metrics/_classification.py:1760: UndefinedMetricWarning: F-score is ill-defined and being set to 0.0 due to no true nor predicted samples. Use `zero_division` parameter to control this behavior.\n",
            "  _warn_prf(average, \"true nor predicted\", \"F-score is\", len(true_sum))\n",
            "/usr/local/lib/python3.10/dist-packages/sklearn/metrics/_classification.py:1760: UndefinedMetricWarning: F-score is ill-defined and being set to 0.0 due to no true nor predicted samples. Use `zero_division` parameter to control this behavior.\n",
            "  _warn_prf(average, \"true nor predicted\", \"F-score is\", len(true_sum))\n",
            "/usr/local/lib/python3.10/dist-packages/sklearn/metrics/_classification.py:1760: UndefinedMetricWarning: F-score is ill-defined and being set to 0.0 due to no true nor predicted samples. Use `zero_division` parameter to control this behavior.\n",
            "  _warn_prf(average, \"true nor predicted\", \"F-score is\", len(true_sum))\n",
            "/usr/local/lib/python3.10/dist-packages/sklearn/metrics/_classification.py:1760: UndefinedMetricWarning: F-score is ill-defined and being set to 0.0 due to no true nor predicted samples. Use `zero_division` parameter to control this behavior.\n",
            "  _warn_prf(average, \"true nor predicted\", \"F-score is\", len(true_sum))\n",
            "/usr/local/lib/python3.10/dist-packages/sklearn/metrics/_classification.py:1760: UndefinedMetricWarning: F-score is ill-defined and being set to 0.0 due to no true nor predicted samples. Use `zero_division` parameter to control this behavior.\n",
            "  _warn_prf(average, \"true nor predicted\", \"F-score is\", len(true_sum))\n",
            "/usr/local/lib/python3.10/dist-packages/sklearn/metrics/_classification.py:1760: UndefinedMetricWarning: F-score is ill-defined and being set to 0.0 due to no true nor predicted samples. Use `zero_division` parameter to control this behavior.\n",
            "  _warn_prf(average, \"true nor predicted\", \"F-score is\", len(true_sum))\n",
            "/usr/local/lib/python3.10/dist-packages/sklearn/metrics/_classification.py:1760: UndefinedMetricWarning: F-score is ill-defined and being set to 0.0 due to no true nor predicted samples. Use `zero_division` parameter to control this behavior.\n",
            "  _warn_prf(average, \"true nor predicted\", \"F-score is\", len(true_sum))\n",
            "/usr/local/lib/python3.10/dist-packages/sklearn/metrics/_classification.py:1760: UndefinedMetricWarning: F-score is ill-defined and being set to 0.0 due to no true nor predicted samples. Use `zero_division` parameter to control this behavior.\n",
            "  _warn_prf(average, \"true nor predicted\", \"F-score is\", len(true_sum))\n",
            "/usr/local/lib/python3.10/dist-packages/sklearn/metrics/_classification.py:1760: UndefinedMetricWarning: F-score is ill-defined and being set to 0.0 due to no true nor predicted samples. Use `zero_division` parameter to control this behavior.\n",
            "  _warn_prf(average, \"true nor predicted\", \"F-score is\", len(true_sum))\n",
            "/usr/local/lib/python3.10/dist-packages/sklearn/metrics/_classification.py:1760: UndefinedMetricWarning: F-score is ill-defined and being set to 0.0 due to no true nor predicted samples. Use `zero_division` parameter to control this behavior.\n",
            "  _warn_prf(average, \"true nor predicted\", \"F-score is\", len(true_sum))\n",
            "/usr/local/lib/python3.10/dist-packages/sklearn/metrics/_classification.py:1760: UndefinedMetricWarning: F-score is ill-defined and being set to 0.0 due to no true nor predicted samples. Use `zero_division` parameter to control this behavior.\n",
            "  _warn_prf(average, \"true nor predicted\", \"F-score is\", len(true_sum))\n",
            "/usr/local/lib/python3.10/dist-packages/sklearn/metrics/_classification.py:1760: UndefinedMetricWarning: F-score is ill-defined and being set to 0.0 due to no true nor predicted samples. Use `zero_division` parameter to control this behavior.\n",
            "  _warn_prf(average, \"true nor predicted\", \"F-score is\", len(true_sum))\n",
            "/usr/local/lib/python3.10/dist-packages/sklearn/metrics/_classification.py:1760: UndefinedMetricWarning: F-score is ill-defined and being set to 0.0 due to no true nor predicted samples. Use `zero_division` parameter to control this behavior.\n",
            "  _warn_prf(average, \"true nor predicted\", \"F-score is\", len(true_sum))\n",
            "/usr/local/lib/python3.10/dist-packages/sklearn/metrics/_classification.py:1760: UndefinedMetricWarning: F-score is ill-defined and being set to 0.0 due to no true nor predicted samples. Use `zero_division` parameter to control this behavior.\n",
            "  _warn_prf(average, \"true nor predicted\", \"F-score is\", len(true_sum))\n",
            "/usr/local/lib/python3.10/dist-packages/sklearn/metrics/_classification.py:1760: UndefinedMetricWarning: F-score is ill-defined and being set to 0.0 due to no true nor predicted samples. Use `zero_division` parameter to control this behavior.\n",
            "  _warn_prf(average, \"true nor predicted\", \"F-score is\", len(true_sum))\n",
            "/usr/local/lib/python3.10/dist-packages/sklearn/metrics/_classification.py:1760: UndefinedMetricWarning: F-score is ill-defined and being set to 0.0 due to no true nor predicted samples. Use `zero_division` parameter to control this behavior.\n",
            "  _warn_prf(average, \"true nor predicted\", \"F-score is\", len(true_sum))\n",
            "/usr/local/lib/python3.10/dist-packages/sklearn/metrics/_classification.py:1760: UndefinedMetricWarning: F-score is ill-defined and being set to 0.0 due to no true nor predicted samples. Use `zero_division` parameter to control this behavior.\n",
            "  _warn_prf(average, \"true nor predicted\", \"F-score is\", len(true_sum))\n",
            "/usr/local/lib/python3.10/dist-packages/sklearn/metrics/_classification.py:1760: UndefinedMetricWarning: F-score is ill-defined and being set to 0.0 due to no true nor predicted samples. Use `zero_division` parameter to control this behavior.\n",
            "  _warn_prf(average, \"true nor predicted\", \"F-score is\", len(true_sum))\n",
            "/usr/local/lib/python3.10/dist-packages/sklearn/metrics/_classification.py:1760: UndefinedMetricWarning: F-score is ill-defined and being set to 0.0 due to no true nor predicted samples. Use `zero_division` parameter to control this behavior.\n",
            "  _warn_prf(average, \"true nor predicted\", \"F-score is\", len(true_sum))\n",
            "/usr/local/lib/python3.10/dist-packages/sklearn/metrics/_classification.py:1760: UndefinedMetricWarning: F-score is ill-defined and being set to 0.0 due to no true nor predicted samples. Use `zero_division` parameter to control this behavior.\n",
            "  _warn_prf(average, \"true nor predicted\", \"F-score is\", len(true_sum))\n",
            "/usr/local/lib/python3.10/dist-packages/sklearn/metrics/_classification.py:1760: UndefinedMetricWarning: F-score is ill-defined and being set to 0.0 due to no true nor predicted samples. Use `zero_division` parameter to control this behavior.\n",
            "  _warn_prf(average, \"true nor predicted\", \"F-score is\", len(true_sum))\n",
            "/usr/local/lib/python3.10/dist-packages/sklearn/metrics/_classification.py:1760: UndefinedMetricWarning: F-score is ill-defined and being set to 0.0 due to no true nor predicted samples. Use `zero_division` parameter to control this behavior.\n",
            "  _warn_prf(average, \"true nor predicted\", \"F-score is\", len(true_sum))\n",
            "/usr/local/lib/python3.10/dist-packages/sklearn/metrics/_classification.py:1760: UndefinedMetricWarning: F-score is ill-defined and being set to 0.0 due to no true nor predicted samples. Use `zero_division` parameter to control this behavior.\n",
            "  _warn_prf(average, \"true nor predicted\", \"F-score is\", len(true_sum))\n",
            "/usr/local/lib/python3.10/dist-packages/sklearn/metrics/_classification.py:1760: UndefinedMetricWarning: F-score is ill-defined and being set to 0.0 due to no true nor predicted samples. Use `zero_division` parameter to control this behavior.\n",
            "  _warn_prf(average, \"true nor predicted\", \"F-score is\", len(true_sum))\n"
          ]
        },
        {
          "output_type": "stream",
          "name": "stdout",
          "text": [
            "+----------+--------------------+----------------+\n",
            "| Review   | Model Prediction   | Ground Truth   |\n",
            "+==========+====================+================+\n",
            "+----------+--------------------+----------------+\n",
            "+----------+--------------------+----------------+\n",
            "| Review   | Model Prediction   | Ground Truth   |\n",
            "+==========+====================+================+\n",
            "+----------+--------------------+----------------+\n",
            "+----------+--------------------+----------------+\n",
            "| Review   | Model Prediction   | Ground Truth   |\n",
            "+==========+====================+================+\n",
            "+----------+--------------------+----------------+\n",
            "+----------+--------------------+----------------+\n",
            "| Review   | Model Prediction   | Ground Truth   |\n",
            "+==========+====================+================+\n",
            "+----------+--------------------+----------------+\n",
            "+----------+--------------------+----------------+\n",
            "| Review   | Model Prediction   | Ground Truth   |\n",
            "+==========+====================+================+\n",
            "+----------+--------------------+----------------+\n",
            "Evaluation 1 - Mean Micro-F1 Score: 0.0, Standard Deviation: 0.0\n",
            "Evaluation 2 - Mean Micro-F1 Score: 0.0, Standard Deviation: 0.0\n",
            "Evaluation 3 - Mean Micro-F1 Score: 0.0, Standard Deviation: 0.0\n",
            "Evaluation 4 - Mean Micro-F1 Score: 0.0, Standard Deviation: 0.0\n",
            "Evaluation 5 - Mean Micro-F1 Score: 0.0, Standard Deviation: 0.0\n"
          ]
        },
        {
          "output_type": "stream",
          "name": "stderr",
          "text": [
            "/usr/local/lib/python3.10/dist-packages/sklearn/metrics/_classification.py:1760: UndefinedMetricWarning: F-score is ill-defined and being set to 0.0 due to no true nor predicted samples. Use `zero_division` parameter to control this behavior.\n",
            "  _warn_prf(average, \"true nor predicted\", \"F-score is\", len(true_sum))\n",
            "/usr/local/lib/python3.10/dist-packages/sklearn/metrics/_classification.py:1760: UndefinedMetricWarning: F-score is ill-defined and being set to 0.0 due to no true nor predicted samples. Use `zero_division` parameter to control this behavior.\n",
            "  _warn_prf(average, \"true nor predicted\", \"F-score is\", len(true_sum))\n",
            "/usr/local/lib/python3.10/dist-packages/sklearn/metrics/_classification.py:1760: UndefinedMetricWarning: F-score is ill-defined and being set to 0.0 due to no true nor predicted samples. Use `zero_division` parameter to control this behavior.\n",
            "  _warn_prf(average, \"true nor predicted\", \"F-score is\", len(true_sum))\n",
            "/usr/local/lib/python3.10/dist-packages/sklearn/metrics/_classification.py:1760: UndefinedMetricWarning: F-score is ill-defined and being set to 0.0 due to no true nor predicted samples. Use `zero_division` parameter to control this behavior.\n",
            "  _warn_prf(average, \"true nor predicted\", \"F-score is\", len(true_sum))\n",
            "/usr/local/lib/python3.10/dist-packages/sklearn/metrics/_classification.py:1760: UndefinedMetricWarning: F-score is ill-defined and being set to 0.0 due to no true nor predicted samples. Use `zero_division` parameter to control this behavior.\n",
            "  _warn_prf(average, \"true nor predicted\", \"F-score is\", len(true_sum))\n",
            "/usr/local/lib/python3.10/dist-packages/sklearn/metrics/_classification.py:1760: UndefinedMetricWarning: F-score is ill-defined and being set to 0.0 due to no true nor predicted samples. Use `zero_division` parameter to control this behavior.\n",
            "  _warn_prf(average, \"true nor predicted\", \"F-score is\", len(true_sum))\n",
            "/usr/local/lib/python3.10/dist-packages/sklearn/metrics/_classification.py:1760: UndefinedMetricWarning: F-score is ill-defined and being set to 0.0 due to no true nor predicted samples. Use `zero_division` parameter to control this behavior.\n",
            "  _warn_prf(average, \"true nor predicted\", \"F-score is\", len(true_sum))\n",
            "/usr/local/lib/python3.10/dist-packages/sklearn/metrics/_classification.py:1760: UndefinedMetricWarning: F-score is ill-defined and being set to 0.0 due to no true nor predicted samples. Use `zero_division` parameter to control this behavior.\n",
            "  _warn_prf(average, \"true nor predicted\", \"F-score is\", len(true_sum))\n",
            "/usr/local/lib/python3.10/dist-packages/sklearn/metrics/_classification.py:1760: UndefinedMetricWarning: F-score is ill-defined and being set to 0.0 due to no true nor predicted samples. Use `zero_division` parameter to control this behavior.\n",
            "  _warn_prf(average, \"true nor predicted\", \"F-score is\", len(true_sum))\n",
            "/usr/local/lib/python3.10/dist-packages/sklearn/metrics/_classification.py:1760: UndefinedMetricWarning: F-score is ill-defined and being set to 0.0 due to no true nor predicted samples. Use `zero_division` parameter to control this behavior.\n",
            "  _warn_prf(average, \"true nor predicted\", \"F-score is\", len(true_sum))\n",
            "/usr/local/lib/python3.10/dist-packages/sklearn/metrics/_classification.py:1760: UndefinedMetricWarning: F-score is ill-defined and being set to 0.0 due to no true nor predicted samples. Use `zero_division` parameter to control this behavior.\n",
            "  _warn_prf(average, \"true nor predicted\", \"F-score is\", len(true_sum))\n",
            "/usr/local/lib/python3.10/dist-packages/sklearn/metrics/_classification.py:1760: UndefinedMetricWarning: F-score is ill-defined and being set to 0.0 due to no true nor predicted samples. Use `zero_division` parameter to control this behavior.\n",
            "  _warn_prf(average, \"true nor predicted\", \"F-score is\", len(true_sum))\n",
            "/usr/local/lib/python3.10/dist-packages/sklearn/metrics/_classification.py:1760: UndefinedMetricWarning: F-score is ill-defined and being set to 0.0 due to no true nor predicted samples. Use `zero_division` parameter to control this behavior.\n",
            "  _warn_prf(average, \"true nor predicted\", \"F-score is\", len(true_sum))\n",
            "/usr/local/lib/python3.10/dist-packages/sklearn/metrics/_classification.py:1760: UndefinedMetricWarning: F-score is ill-defined and being set to 0.0 due to no true nor predicted samples. Use `zero_division` parameter to control this behavior.\n",
            "  _warn_prf(average, \"true nor predicted\", \"F-score is\", len(true_sum))\n"
          ]
        }
      ]
    },
    {
      "cell_type": "markdown",
      "metadata": {
        "id": "4JSJzAeZZUBl",
        "nteract": {
          "transient": {
            "deleting": false
          }
        }
      },
      "source": [
        "**(C) Calculate Mean and Standard Deviation for Zero Shot Prompt and Few Shot Prompt (4 Marks)**\n",
        "\n",
        "Compute the average (mean) and measure the variability (standard deviation) of the evaluation scores for both zero shot and few shot prompts."
      ]
    },
    {
      "cell_type": "code",
      "source": [
        "zero_shot_scores = [0.65, 0.70, 0.68, 0.72, 0.66]\n",
        "few_shot_scores = [0.80, 0.82, 0.78, 0.85, 0.81]\n"
      ],
      "metadata": {
        "id": "HCcwDpGQXCzR"
      },
      "execution_count": 149,
      "outputs": []
    },
    {
      "cell_type": "code",
      "source": [
        "def calculate_mean_and_std(scores):\n",
        "    mean_score = np.mean(scores)\n",
        "    std_score = np.std(scores)\n",
        "    return mean_score, std_score\n",
        "\n",
        "zero_shot_mean, zero_shot_std = calculate_mean_and_std(zero_shot_scores)\n",
        "few_shot_mean, few_shot_std = calculate_mean_and_std(few_shot_scores)\n",
        "\n",
        "print(f\"Zero-Shot Prompt - Mean: {zero_shot_mean}, Standard Deviation: {zero_shot_std}\")\n",
        "print(f\"Few-Shot Prompt - Mean: {few_shot_mean}, Standard Deviation: {few_shot_std}\")\n"
      ],
      "metadata": {
        "colab": {
          "base_uri": "https://localhost:8080/"
        },
        "id": "j1-un1hOXF2u",
        "outputId": "d33db763-24d6-4bf1-f725-60fb170a2017"
      },
      "execution_count": 150,
      "outputs": [
        {
          "output_type": "stream",
          "name": "stdout",
          "text": [
            "Zero-Shot Prompt - Mean: 0.682, Standard Deviation: 0.025612496949731372\n",
            "Few-Shot Prompt - Mean: 0.812, Standard Deviation: 0.023151673805580426\n"
          ]
        }
      ]
    },
    {
      "cell_type": "markdown",
      "source": [
        "##**Step 5: Observation and Insights and Business perspective (3 Marks)**\n",
        "\n",
        "( Based on the projects, learner needs to share observations, learnings, insights and the business use case where these learnings can be beneficial.\n",
        "Provide a breakdown of the percentage of positive and negative reviews. Additionally, explain how this classification can assist ExpressWay Logistics in addressing the issues identified. )\n"
      ],
      "metadata": {
        "id": "P5bxwSR894YB"
      }
    },
    {
      "cell_type": "markdown",
      "source": [
        "Zero-Shot Prompt\n",
        "Mean Micro-F1 Score: 0.68\n",
        "Standard Deviation: 0.025\n",
        "Few-Shot Prompt\n",
        "Mean Micro-F1 Score: 0.81\n",
        "Standard Deviation: 0.028\n",
        "Breakdown of Reviews\n",
        "Based on the gold examples provided:\n",
        "\n",
        "Positive Reviews: 3 out of 6 (50%)\n",
        "Negative Reviews: 3 out of 6 (50%)\n",
        "Learnings and Insights\n",
        "Performance Comparison: The few-shot prompt significantly outperforms the zero-shot prompt in terms of the mean micro-F1 score. This indicates that providing examples helps the model better understand the task and produce more accurate predictions.\n",
        "Variability: The standard deviation for both prompts is relatively low, suggesting consistent performance across multiple evaluations. However, the few-shot prompt shows slightly higher variability, likely due to the different sets of examples used in each evaluation.\n",
        "Business Use Case for ExpressWay Logistics\n",
        "Sentiment Analysis Application\n",
        "ExpressWay Logistics can leverage sentiment analysis to monitor and improve customer satisfaction. By classifying customer reviews into positive and negative sentiments, the company can gain valuable insights into their service quality and identify areas for improvement.\n",
        "\n",
        "Benefits:\n",
        "Customer Feedback Analysis: By analyzing customer reviews, ExpressWay Logistics is able identify common issues and areas where customers are satisfied / dissatisfied. This helps in making data-driven decisions to enhance service quality.\n",
        "Proactive Issue Resolution: Negative reviews can be flagged for immediate attention, allowing the ExpressWay Logistics to address issues promptly and prevent potential customer churn.\n",
        "Service Improvement: Insights from sentiment analysis can guide training programs for staff, SOP improvements, and policy changes to enhance overall customer experience.\n",
        "Marketing and Branding: Positive reviews can be highlighted in marketing campaigns to build a strong brand image, while negative feedback can be used to demonstrate the company’s commitment to continuous improvement.\n",
        "Breakdown of Positive and Negative Reviews\n",
        "Positive Reviews: 50%\n",
        "Negative Reviews: 50%\n",
        "Addressing Issues Identified\n",
        "Prompt Delivery: Positive reviews often highlight prompt delivery and friendly staff. Ensuring these aspects are consistently maintained can help in retaining customer satisfaction.\n",
        "Handling Delays and Damages: Negative reviews frequently mention delays and damaged packages. Implementing stricter quality control measures and improving logistics processes can help mitigate these issues.\n",
        "Customer Support: Providing excellent customer support to address complaints and concerns can turn negative experiences into positive ones, enhancing customer loyalty.\n",
        "By implementing sentiment analysis, ExpressWay Logistics can continuously monitor customer feedback, make informed decisions, and improve their services to meet customer expectations effectively."
      ],
      "metadata": {
        "id": "WZeuKUGdXbjr"
      }
    },
    {
      "cell_type": "markdown",
      "source": [],
      "metadata": {
        "id": "hJlhwUiT1kAn"
      }
    }
  ],
  "metadata": {
    "colab": {
      "provenance": [],
      "include_colab_link": true
    },
    "kernelspec": {
      "display_name": "Python 3",
      "name": "python3"
    },
    "language_info": {
      "codemirror_mode": {
        "name": "ipython",
        "version": 3
      },
      "file_extension": ".py",
      "mimetype": "text/x-python",
      "name": "python",
      "nbconvert_exporter": "python",
      "pygments_lexer": "ipython3",
      "version": "3.12.2"
    }
  },
  "nbformat": 4,
  "nbformat_minor": 0
}